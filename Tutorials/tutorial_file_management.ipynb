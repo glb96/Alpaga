{
 "cells": [
  {
   "cell_type": "code",
   "execution_count": 1,
   "metadata": {},
   "outputs": [],
   "source": [
    "# jupyter nbconvert --to python test_software_dev_version.ipynb test_software_dev_version.py\n",
    "import numpy as np\n",
    "import os \n",
    "import sys\n",
    "\n",
    "import Alpaga # the full package\n",
    "from Alpaga import file_management"
   ]
  },
  {
   "cell_type": "markdown",
   "metadata": {},
   "source": [
    "In this tutorial, we will see the different functions available to read data obtained from our experimental device. \n",
    "\n",
    "The **main idea** is that one obtain a serie of **iteration** as a function of a \"parameters\", that we will call **angle** -- historically, this is the light polarization. \n",
    "\n",
    "The iteration are a serie of acquisition that should sample the same spectra. We want to average the spectra over the iteration for a given angle. \n",
    "Pratically speaking, if you are recording one spectra over 10 sec for each angle, you will have 1 iterations per angle. If you are recording 10 spectra over 1 sec for each angle, you will have 10 iterations per angle. \n",
    "\n",
    "If you are recording spectra as a function of angle, for instance let us say from 0 to 180 with 10 step, you will have 19 angles. If you have 10 iteration per angle, you will get 19x10=190 spectra to treat. \n",
    "\n",
    "We will in the spectra_analysis tutorial how to do it with Alpaga, but first, let us discuss how to access the data... **your** data. "
   ]
  },
  {
   "cell_type": "markdown",
   "metadata": {},
   "source": [
    "In fact, this is probably the part where you will have to spend some time "
   ]
  },
  {
   "cell_type": "code",
   "execution_count": 2,
   "metadata": {},
   "outputs": [],
   "source": [
    "# Find the files that are to analyse"
   ]
  },
  {
   "cell_type": "code",
   "execution_count": null,
   "metadata": {},
   "outputs": [],
   "source": []
  }
 ],
 "metadata": {
  "kernelspec": {
   "display_name": "Python 3 (ipykernel)",
   "language": "python",
   "name": "python3"
  },
  "language_info": {
   "codemirror_mode": {
    "name": "ipython",
    "version": 3
   },
   "file_extension": ".py",
   "mimetype": "text/x-python",
   "name": "python",
   "nbconvert_exporter": "python",
   "pygments_lexer": "ipython3",
   "version": "3.7.3"
  }
 },
 "nbformat": 4,
 "nbformat_minor": 2
}
