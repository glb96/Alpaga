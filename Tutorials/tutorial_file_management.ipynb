{
 "cells": [
  {
   "cell_type": "markdown",
   "metadata": {},
   "source": [
    "# Tutorial: File Management"
   ]
  },
  {
   "cell_type": "code",
   "execution_count": 1,
   "metadata": {},
   "outputs": [],
   "source": [
    "import numpy as np\n",
    "import os \n",
    "import sys\n",
    "\n",
    "import Alpaga\n",
    "from Alpaga import file_management\n",
    "from Alpaga.Data_tutorial import get_tutorial_path \n"
   ]
  },
  {
   "cell_type": "markdown",
   "metadata": {},
   "source": [
    "## Introduction (Please Read Carefully)"
   ]
  },
  {
   "cell_type": "markdown",
   "metadata": {},
   "source": [
    "In this tutorial, we will explore the various functions available to read data obtained from our experimental device. The **main idea** is that one obtains experimentally a series of spectra, **iterations**, as a function of a parameter, which we will call **angle** — historically, this represents the light polarization. The goal of this tutorial is to explain how to connect these files to Alpaga for analysis.\n",
    "\n",
    "**Key Concepts:**\n",
    "- **Iteration**: A series of acquisitions that sample the same spectrum. We aim to average the spectra across iterations for a given angle.\n",
    "- **Angle**: The varying experimental parameter (can be polarization angle, temperature, power, etc.)\n",
    "\n",
    "**Practical examples:**\n",
    "- If you record one spectrum over 10 seconds for each angle → 1 iteration per angle\n",
    "- If you record 10 spectra over 1 second for each angle → 10 iterations per angle\n",
    "- Recording spectra from 0° to 180° in 10° steps → 19 angles\n",
    "- With 10 iterations per angle → 19 × 10 = 190 spectra to process\n",
    "\n",
    "> **Note**: \"Angle\" can represent any parameter other than an actual angle. Technically, angles are treated as strings in Alpaga.\n",
    "\n",
    "We will show how to process these data in the spectra_analysis tutorial, but first, let's discuss how to access the data — **your** data. This is likely the part where you will need to spend the most time during your first use of Alpaga."
   ]
  },
  {
   "cell_type": "markdown",
   "metadata": {},
   "source": [
    "## Standard Naming Convention"
   ]
  },
  {
   "cell_type": "markdown",
   "metadata": {},
   "source": [
    "First, let's show how this is done in the lab where Alpaga was developed.\n",
    "\n",
    "The LabView software controlling the acquisition saves the spectra in a directory with the following naming convention:\n",
    "\n",
    "```python\n",
    "prefix + \"_\" + angle_value + \"_\" + iteration_number + \".dat\"\n",
    "```\n",
    "\n",
    "**Example**: For an angle of 0.0° with 3 acquisitions, we would have 3 files:\n",
    "- `polarP_0.0_1.dat`\n",
    "- `polarP_0.0_2.dat` \n",
    "- `polarP_0.0_3.dat`\n",
    "\n",
    "Given a prefix, `angle_value`, and `iteration`, the function `alpaga.file_management.standard_file_name` constructs the file name according to this rule."
   ]
  },
  {
   "cell_type": "markdown",
   "metadata": {},
   "source": [
    "### Using `standard_file_name`"
   ]
  },
  {
   "cell_type": "markdown",
   "metadata": {},
   "source": [
    "We can use `standard_file_name` to generate file names in all possible cases:\n"
   ]
  },
  {
   "cell_type": "code",
   "execution_count": 2,
   "metadata": {},
   "outputs": [
    {
     "name": "stdout",
     "output_type": "stream",
     "text": [
      "prefixe_42.0_4.dat\n",
      "prefixe_4.dat\n",
      "prefixe_42.0.dat\n",
      "prefixe.dat\n"
     ]
    }
   ],
   "source": [
    "# Example 1: both angle and iteration are provided\n",
    "name_out = Alpaga.file_management.standard_file_name('prefixe', angle='42.0', iteration='4', extension='.dat')\n",
    "print(name_out)\n",
    "\n",
    "# Example 2: no angle provided, only iteration\n",
    "name_out = Alpaga.file_management.standard_file_name('prefixe', angle=False, iteration='4', extension='.dat')\n",
    "print(name_out)\n",
    "\n",
    "# Example 3: only angle provided, no iteration\n",
    "name_out = Alpaga.file_management.standard_file_name('prefixe', angle='42.0', iteration=False, extension='.dat')\n",
    "print(name_out)\n",
    "\n",
    "# Example 4: neither angle nor iteration provided\n",
    "name_out = Alpaga.file_management.standard_file_name('prefixe', angle=False, iteration=False, extension='.dat')\n",
    "print(name_out)"
   ]
  },
  {
   "cell_type": "markdown",
   "metadata": {},
   "source": [
    "### Framework Requirements"
   ]
  },
  {
   "cell_type": "markdown",
   "metadata": {},
   "source": [
    "\n",
    "The entire Alpaga analysis framework is built around the concepts of **angle** (for physical analyses) and **iteration** (for denoising and computing experimental errors).\n",
    "\n",
    "Therefore, you may be using:\n",
    "- ✅ This exact naming convention → Continue to the next section\n",
    "- ⚠️ A very similar convention → Skip to \"Custom Naming Convention\"  \n",
    "- ❌ A different convention entirely → Skip to \"Different Naming Conventions\"\n",
    "\n",
    "In any case, Alpaga requires a way to access the files and associate each one with a specific **angle** and **iteration**.\n",
    "\n",
    "> **Note**: If you are saving your iterations sequentially for a single angle, please contact us. This case is not yet handled, but it should be easily fixed.\n"
   ]
  },
  {
   "cell_type": "markdown",
   "metadata": {},
   "source": [
    "**Note:** If you are saving your iterations sequentially for a single angle, please contact us. This case is not yet handled, but it should be easily fixed."
   ]
  },
  {
   "cell_type": "markdown",
   "metadata": {},
   "source": [
    "## About the Tutorial Data"
   ]
  },
  {
   "cell_type": "markdown",
   "metadata": {},
   "source": [
    "The data used in the tutorials are included within the Alpaga package. You can access them using the `Alpaga.Data_tutorial.get_tutorial_path` function. This is already done in the tutorials, so you should not need to worry about this step.\n",
    "\n",
    "If you want to explore additional data or access the files manually, check the `Alpaga/Data_tutorial` folder in the GitHub repository (or your local copy), or use the following command:"
   ]
  },
  {
   "cell_type": "code",
   "execution_count": 3,
   "metadata": {},
   "outputs": [
    {
     "name": "stdout",
     "output_type": "stream",
     "text": [
      "Tutorial data is stored here: /home/glebreton/.local/lib/python3.7/site-packages/Alpaga/Data_tutorial/\n"
     ]
    }
   ],
   "source": [
    "print('Tutorial data is stored here:', get_tutorial_path(''))"
   ]
  },
  {
   "cell_type": "markdown",
   "metadata": {},
   "source": [
    "## Case 1: Standard Naming Convention (EASIEST)"
   ]
  },
  {
   "cell_type": "markdown",
   "metadata": {},
   "source": [
    "If your file naming convention follows the pattern:\n",
    "```python\n",
    "prefix + \"_\" + angle_value + \"_\" + iteration_number + extension\n",
    "```\n",
    "and all files are saved in the same directory for a given experiment.\n",
    "\n",
    "You can use `Alpaga.file_management.find_file_iter_from_dir` or `Alpaga.file_management.find_angle_iter_from_dir` to automatically determine the number of iterations and angles.\n"
   ]
  },
  {
   "cell_type": "code",
   "execution_count": 4,
   "metadata": {},
   "outputs": [
    {
     "name": "stdout",
     "output_type": "stream",
     "text": [
      "I will look at file with the extension .dat in the directory /home/glebreton/.local/lib/python3.7/site-packages/Alpaga/Data_tutorial/SHS/Single_angle for single acquisition. The type of the files should be: prefix_iter.extension\n",
      "The prefix for all the file are: \"Spectre_4.0\" with 12 iter. The extension is: .dat\n"
     ]
    }
   ],
   "source": [
    "# Single Angle Analysis\n",
    "directory = get_tutorial_path(\"SHS/Single_angle\")\n",
    "prefix_file, N_iter, extension = Alpaga.file_management.find_file_iter_from_dir(directory)\n",
    "print('The prefix for all the file are: \"' + prefix_file + '\" with ' + str(N_iter) + ' iter. The extension is: ' + extension)"
   ]
  },
  {
   "cell_type": "code",
   "execution_count": 5,
   "metadata": {},
   "outputs": [
    {
     "name": "stdout",
     "output_type": "stream",
     "text": [
      "I will look at file with the extension .dat in the directory /home/glebreton/.local/lib/python3.7/site-packages/Alpaga/Data_tutorial/SHS/Eau_polar_Vfor angle dependent values. The type of the files should be: prefix_angle_iter.extension\n",
      "The prefix for all the file are: \"Spectre\" with 12 iter. The angle found are ['4.0', '8.0', '12.0', '16.0', '20.0', '24.0', '28.0', '32.0', '36.0', '40.0', '44.0', '48.0', '52.0', '56.0', '60.0', '64.0', '68.0', '72.0', '76.0', '80.0', '84.0', '88.0', '92.0', '96.0', '100.0', '104.0', '108.0', '112.0', '116.0', '120.0', '124.0', '128.0', '132.0', '136.0', '140.0', '144.0', '148.0', '152.0', '156.0', '160.0', '164.0', '168.0', '172.0', '176.0', '180.0', '184.0', '188.0']. The extension is: .dat\n"
     ]
    }
   ],
   "source": [
    "#  Multiple Angles Analysis\n",
    "directory = get_tutorial_path(\"SHS/Eau_polar_V\")\n",
    "prefix_file, L_files_angles, N_iter, extension = Alpaga.file_management.find_angle_iter_from_dir(directory)\n",
    "print('The prefix for all the file are: \"' + prefix_file + '\" with ' + str(N_iter) + ' iter. The angle found are ' + str(L_files_angles) + '. The extension is: ' + extension)"
   ]
  },
  {
   "cell_type": "markdown",
   "metadata": {},
   "source": [
    "**Function outputs:**\n",
    "- `prefix_file`: Common prefix shared by all files in this dataset\n",
    "- `L_files_angles`: List containing all angle values found\n",
    "- `N_iter`: Number of iterations per angle  \n",
    "- `extension`: File extension of the dataset files\n",
    "\n",
    "This organization allows subsequent functions to process the spectra automatically for each angle and iteration."
   ]
  },
  {
   "cell_type": "markdown",
   "metadata": {},
   "source": [
    "## Case 2: Custom Naming Convention (INTERMEDIATE)"
   ]
  },
  {
   "cell_type": "markdown",
   "metadata": {},
   "source": [
    "Suppose you are using a slightly different naming convention, for example:\n",
    "- `prefix-anglevalue-iteration.extension`\n",
    "- `prefix_angleval_anglevalue_aq_iteration.dat`\n",
    "\n",
    "In this case, you need to define equivalent functions to replace the standard Alpaga functions."
   ]
  },
  {
   "cell_type": "code",
   "execution_count": 6,
   "metadata": {},
   "outputs": [
    {
     "name": "stdout",
     "output_type": "stream",
     "text": [
      "prefixe_42.0_aq4.dat\n"
     ]
    }
   ],
   "source": [
    "def my_own_convention_for_filename(prefixe, angle=False, iteration=False, extension='.dat'):\n",
    "    \"\"\"\n",
    "    Define how to build the name of a file. \n",
    "    Note: The function structure, arguments, and output must match this exactly!\n",
    "    \"\"\"\n",
    "    if isinstance(angle, bool):  # Case where no angle is given\n",
    "        if isinstance(iteration, bool):  # Case where no iteration is given\n",
    "            name = prefixe + extension\n",
    "        else:  # Case where only an iteration is given\n",
    "            name = prefixe + '_aq' + iteration + extension\n",
    "    else:  # Case where an angle is given\n",
    "        if isinstance(iteration, bool):  # Case where no iteration is given\n",
    "            name = prefixe + '_' + angle + extension\n",
    "        else:  # Case where both angle and iteration are given\n",
    "            name = prefixe + '_' + angle + '_aq' + iteration + extension\n",
    "    return name\n",
    "    \n",
    "# Example usage\n",
    "name_out = my_own_convention_for_filename('prefixe', angle='42.0', iteration='4', extension='.dat')\n",
    "print(name_out)\n"
   ]
  },
  {
   "cell_type": "markdown",
   "metadata": {},
   "source": [
    "If you don't create an auto-detection function, you'll need to provide manually:\n",
    "- `prefix`: File name prefix\n",
    "- `N_iter`: Number of iterations  \n",
    "- `L_angle`: List of angles\n",
    "- `extension`: File extension\n",
    "- `my_own_convention_for_filename`: Your custom naming function\n",
    "\n",
    "> **Note**: The prefix can be an empty string if necessary.\n"
   ]
  },
  {
   "cell_type": "markdown",
   "metadata": {},
   "source": [
    "## Case 3: Different Naming Conventions (ADVANCED)"
   ]
  },
  {
   "cell_type": "markdown",
   "metadata": {},
   "source": [
    "If you are using an entirely different way of naming or saving your spectra, you must provide the full path of each acquisition as an `N_angle × N_iter` list.\n",
    "\n",
    "Example:\n",
    "\n",
    "For 2 angles and 3 iterations:\n",
    "\n",
    "```python\n",
    "L_filename = [\n",
    "    [filename_angle1_iter1, filename_angle1_iter2, filename_angle1_iter3],\n",
    "    [filename_angle2_iter1, filename_angle2_iter2, filename_angle2_iter3]\n",
    "]\n",
    "```\n",
    "\n",
    "With the corresponding parameters:\n",
    "```python\n",
    "L_files_angles = ['angle_value_1', 'angle_value_2']\n",
    "N_iter = 3\n",
    "```"
   ]
  },
  {
   "cell_type": "code",
   "execution_count": 7,
   "metadata": {},
   "outputs": [
    {
     "name": "stdout",
     "output_type": "stream",
     "text": [
      "Full file paths: ['/home/glebreton/.local/lib/python3.7/site-packages/Alpaga/Data_tutorial/SHS/Eau_polar_V/Spectre_4.0_1.dat', '/home/glebreton/.local/lib/python3.7/site-packages/Alpaga/Data_tutorial/SHS/Eau_polar_V/Spectre_4.0_2.dat', '/home/glebreton/.local/lib/python3.7/site-packages/Alpaga/Data_tutorial/SHS/Eau_polar_V/Spectre_4.0_3.dat']\n"
     ]
    }
   ],
   "source": [
    "# Example:\n",
    "directory = get_tutorial_path(\"SHS/Eau_polar_V\")\n",
    "L_filename = ['Spectre_4.0_1.dat', 'Spectre_4.0_2.dat', 'Spectre_4.0_3.dat']\n",
    "L_filename = [os.path.join(directory, filename) for filename in L_filename]\n",
    "print(\"Full file paths:\", L_filename)"
   ]
  },
  {
   "cell_type": "markdown",
   "metadata": {},
   "source": [
    "> **Important**: If you provide your data this way, be careful when following the next tutorial, especially during the denoising step and when using the core function `Alpaga.analyze_run.polarisation_intensity`.\n"
   ]
  },
  {
   "cell_type": "markdown",
   "metadata": {},
   "source": [
    "## Summary"
   ]
  },
  {
   "cell_type": "markdown",
   "metadata": {},
   "source": [
    "| **Case** | **Difficulty** | **Your Situation** | **Solution** |\n",
    "|----------|----------------|-------------------|--------------|\n",
    "| **Standard** | ✅ Easy | Files like `prefix_angle_iter.dat` | Use `find_angle_iter_from_dir()` |\n",
    "| **Custom** | ⚠️ Medium | Similar pattern, different separators | Define custom naming function |\n",
    "| **Different** | ❌ Advanced | Completely different organization | Provide manual file lists |\n",
    "\n",
    "**Next Steps:**\n",
    "- ✅ Standard/Custom → Follow tutorial_spectra_analysis directly\n",
    "- ❌ Different → Follow tutorial_spectra_analysis with extra caution for file handling\n"
   ]
  },
  {
   "cell_type": "code",
   "execution_count": null,
   "metadata": {},
   "outputs": [],
   "source": []
  }
 ],
 "metadata": {
  "kernelspec": {
   "display_name": "Python 3 (ipykernel)",
   "language": "python",
   "name": "python3"
  },
  "language_info": {
   "codemirror_mode": {
    "name": "ipython",
    "version": 3
   },
   "file_extension": ".py",
   "mimetype": "text/x-python",
   "name": "python",
   "nbconvert_exporter": "python",
   "pygments_lexer": "ipython3",
   "version": "3.7.3"
  }
 },
 "nbformat": 4,
 "nbformat_minor": 2
}
