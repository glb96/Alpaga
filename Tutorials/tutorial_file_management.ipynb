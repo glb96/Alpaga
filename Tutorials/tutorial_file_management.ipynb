{
 "cells": [
  {
   "cell_type": "code",
   "execution_count": 5,
   "metadata": {},
   "outputs": [],
   "source": [
    "import numpy as np\n",
    "import os \n",
    "import sys\n",
    "\n",
    "import Alpaga\n",
    "from Alpaga import file_management\n",
    "from Alpaga.Data_tutorial import get_tutorial_path \n"
   ]
  },
  {
   "cell_type": "markdown",
   "metadata": {},
   "source": [
    "# Introduction (please read)"
   ]
  },
  {
   "cell_type": "markdown",
   "metadata": {},
   "source": [
    "In this tutorial, we will see the different functions available to read data obtained from our experimental device. he **main idea** is that one obtain experimentally a serie of **iteration** as a function of a \"parameters\", that we will call **angle** -- historically, this is the light polarization. The goal of this tutorial is to explain you how to connect these file to Alpaga for their analyses. \n",
    "\n",
    "The iteration are a serie of acquisition that should sample the same spectra. We want to average the spectra over the iteration for a given angle. \n",
    "Pratically speaking, if you are recording one spectra over 10 sec for each angle, you will have 1 iterations per angle. If you are recording 10 spectra over 1 sec for each angle, you will have 10 iterations per angle. \n",
    "\n",
    "If you are recording spectra as a function of angle, for instance let us say from 0 to 180 with 10 step, you will have 19 angles. If you have 10 iteration per angle, you will get 19x10=190 spectra to treat. \n",
    "\n",
    "Again, we would like to stress that angle can represent something else then angle. Technically speacking, they are used as strings in Alpaga. \n",
    "\n",
    "We will in the spectra_analysis tutorial how to do it with Alpaga, but first, let us discuss how to access the data... **your** data. In fact, this is probably the part where you will have to spend some time during your first Alapaga."
   ]
  },
  {
   "cell_type": "markdown",
   "metadata": {},
   "source": [
    "Let us first present how it is done initially at the lab where Alpaga was created. \n",
    "The LabView controlling the acquisition saves the spectra in a directory as: \n",
    "\n",
    "prefix + _ + angle value + _ + iteration number  + .dat \n",
    "\n",
    "For instance, for an angle of 0.0 and with 3 acquisitions, we would have 3 files: polarP_0.0_1.dat, polarP_0.0_2.dat and polarP_0.0_3.dat. \n",
    "\n",
    "\n",
    "Given a prefix, angle_value and iteration, the function *alpaga.file_management.standard_file_name* built the file name using the presented rule:\n"
   ]
  },
  {
   "cell_type": "code",
   "execution_count": 6,
   "metadata": {},
   "outputs": [
    {
     "name": "stdout",
     "output_type": "stream",
     "text": [
      "prefixe_42.0_4.dat\n",
      "prefixe_4.dat\n",
      "prefixe_42.0.dat\n",
      "prefixe.dat\n"
     ]
    }
   ],
   "source": [
    "name_out = Alpaga.file_management.standard_file_name('prefixe', angle='42.0', iteration='4', extention='.dat')\n",
    "print(name_out)\n",
    "\n",
    "name_out = Alpaga.file_management.standard_file_name('prefixe', angle=False, iteration='4', extention='.dat')\n",
    "print(name_out)\n",
    "\n",
    "name_out = Alpaga.file_management.standard_file_name('prefixe', angle='42.0', iteration=False, extention='.dat')\n",
    "print(name_out)\n",
    "\n",
    "name_out = Alpaga.file_management.standard_file_name('prefixe', angle=False, iteration=False, extention='.dat')\n",
    "print(name_out)"
   ]
  },
  {
   "cell_type": "markdown",
   "metadata": {},
   "source": [
    "The whole Alpaga analysis is built around this notation of **angle**, for the \"physical\" analyses, and **iteration** , for denoising and computing the experimental errors.\n",
    "\n",
    "Hence, either you are using this rule for naming your files, or very similar one, or not. \n",
    "  + If you are, follow the next part and you will probably have few difficulties to use directly the next tutorials for your analyses. \n",
    "  + If no, go to the last part. \n",
    "  \n",
    "In any case, Alpaga will need a way to access the files and to relate them to a given **angle** and **iteration**. "
   ]
  },
  {
   "cell_type": "markdown",
   "metadata": {},
   "source": [
    "**Note**: If you are saving your iteration for a single iteration one after another, please contact us, this case is not yet handle -- but should be easely fixed. "
   ]
  },
  {
   "cell_type": "markdown",
   "metadata": {},
   "source": [
    "# About the Data for the tutorials"
   ]
  },
  {
   "cell_type": "markdown",
   "metadata": {},
   "source": [
    "The data for the tutorials are within Alpaga package. You can access them using the *Alpaga.Data_tutorial.get_tutorial_path* function. This is already done in the tutorials so you should not need to worry about this part. \n",
    "\n",
    "If you are looking for more data / open the data by yourself, have a look at Alpaga/Data_tutorial in the github/your version of the repository, or look in the directory returned by: "
   ]
  },
  {
   "cell_type": "code",
   "execution_count": 7,
   "metadata": {},
   "outputs": [
    {
     "name": "stdout",
     "output_type": "stream",
     "text": [
      "Where is store the tutorial data in your case: /home/glebreton/.local/lib/python3.7/site-packages/Alpaga/Data_tutorial/\n"
     ]
    }
   ],
   "source": [
    "print('Where is store the tutorial data in your case:', get_tutorial_path(\"\"))"
   ]
  },
  {
   "cell_type": "markdown",
   "metadata": {},
   "source": [
    "# \"Usual\" naming convention"
   ]
  },
  {
   "cell_type": "markdown",
   "metadata": {},
   "source": [
    "If you are reading this part, your naming convention respects something like:\n",
    "\n",
    "prefix + _ + angle value + _ + iteration number  + extension\n",
    "\n",
    "and your files are saved **IN THE SAME DIRECTORY** for a given experiment. \n",
    " \n",
    "If your convention is sightly different, read this part and the next one.\n"
   ]
  },
  {
   "cell_type": "markdown",
   "metadata": {},
   "source": [
    "If you have recorded only one type of experiment (**i.e.** one prefix), you can use either the function *find_file_iter_from_dir* or *alpaga.find_angle_iter_from_dir* to find automatically the number of iterations and angles.\n",
    "\n",
    "The following example are self-explanatory:"
   ]
  },
  {
   "cell_type": "code",
   "execution_count": 8,
   "metadata": {},
   "outputs": [
    {
     "name": "stdout",
     "output_type": "stream",
     "text": [
      "I will look at file with the extention .dat in the directory /home/glebreton/.local/lib/python3.7/site-packages/Alpaga/Data_tutorial/SHS/Eau_polar_V for single acquisition. The type of the files should be: prefix_iter.extention\n"
     ]
    },
    {
     "ename": "Exception",
     "evalue": "There are other file with the same extention but not the same prefix name. Please move these file, or do not use this module to creat the list! If you are looking for angle depend value, use the find_angle_iter_from_dir function.",
     "output_type": "error",
     "traceback": [
      "\u001b[0;31m---------------------------------------------------------------------------\u001b[0m",
      "\u001b[0;31mException\u001b[0m                                 Traceback (most recent call last)",
      "\u001b[0;32m<ipython-input-8-8e3f676d4553>\u001b[0m in \u001b[0;36m<module>\u001b[0;34m()\u001b[0m\n\u001b[1;32m      1\u001b[0m \u001b[0mdirectory\u001b[0m \u001b[0;34m=\u001b[0m \u001b[0mget_tutorial_path\u001b[0m\u001b[0;34m(\u001b[0m\u001b[0;34m\"SHS/Eau_polar_V\"\u001b[0m\u001b[0;34m)\u001b[0m\u001b[0;34m\u001b[0m\u001b[0;34m\u001b[0m\u001b[0m\n\u001b[0;32m----> 2\u001b[0;31m \u001b[0mprefix_file\u001b[0m\u001b[0;34m,\u001b[0m \u001b[0mN_iter\u001b[0m\u001b[0;34m,\u001b[0m \u001b[0mextention\u001b[0m \u001b[0;34m=\u001b[0m \u001b[0mAlpaga\u001b[0m\u001b[0;34m.\u001b[0m\u001b[0mfile_management\u001b[0m\u001b[0;34m.\u001b[0m\u001b[0mfind_file_iter_from_dir\u001b[0m\u001b[0;34m(\u001b[0m\u001b[0mdirectory\u001b[0m\u001b[0;34m)\u001b[0m\u001b[0;34m\u001b[0m\u001b[0;34m\u001b[0m\u001b[0m\n\u001b[0m\u001b[1;32m      3\u001b[0m \u001b[0mprint\u001b[0m\u001b[0;34m(\u001b[0m\u001b[0;34m'The prefix for all the file are: \"'\u001b[0m \u001b[0;34m+\u001b[0m \u001b[0mprefix_file\u001b[0m \u001b[0;34m+\u001b[0m \u001b[0;34m'\" with '\u001b[0m \u001b[0;34m+\u001b[0m \u001b[0mstr\u001b[0m\u001b[0;34m(\u001b[0m\u001b[0mN_iter\u001b[0m\u001b[0;34m)\u001b[0m \u001b[0;34m+\u001b[0m \u001b[0;34m' iter. The extention is: '\u001b[0m \u001b[0;34m+\u001b[0m \u001b[0mextention\u001b[0m\u001b[0;34m)\u001b[0m\u001b[0;34m\u001b[0m\u001b[0;34m\u001b[0m\u001b[0m\n",
      "\u001b[0;32m/home/glebreton/.local/lib/python3.7/site-packages/Alpaga/file_management.py\u001b[0m in \u001b[0;36mfind_file_iter_from_dir\u001b[0;34m(directory, extention)\u001b[0m\n\u001b[1;32m    205\u001b[0m             \u001b[0;32melse\u001b[0m\u001b[0;34m:\u001b[0m\u001b[0;34m\u001b[0m\u001b[0;34m\u001b[0m\u001b[0m\n\u001b[1;32m    206\u001b[0m                 \u001b[0;32mif\u001b[0m \u001b[0mprefix_file_old\u001b[0m \u001b[0;34m!=\u001b[0m \u001b[0mprefix_file\u001b[0m\u001b[0;34m:\u001b[0m\u001b[0;34m\u001b[0m\u001b[0;34m\u001b[0m\u001b[0m\n\u001b[0;32m--> 207\u001b[0;31m                     \u001b[0;32mraise\u001b[0m \u001b[0mException\u001b[0m\u001b[0;34m(\u001b[0m\u001b[0;34m'There are other file with the same extention but not the same prefix name. Please move these file, or do not use this module to creat the list! If you are looking for angle depend value, use the find_angle_iter_from_dir function.'\u001b[0m\u001b[0;34m)\u001b[0m\u001b[0;34m\u001b[0m\u001b[0;34m\u001b[0m\u001b[0m\n\u001b[0m\u001b[1;32m    208\u001b[0m \u001b[0;34m\u001b[0m\u001b[0m\n\u001b[1;32m    209\u001b[0m             \u001b[0mL_files_iter\u001b[0m\u001b[0;34m.\u001b[0m\u001b[0mappend\u001b[0m\u001b[0;34m(\u001b[0m\u001b[0mnumber_iter\u001b[0m\u001b[0;34m)\u001b[0m\u001b[0;34m\u001b[0m\u001b[0;34m\u001b[0m\u001b[0m\n",
      "\u001b[0;31mException\u001b[0m: There are other file with the same extention but not the same prefix name. Please move these file, or do not use this module to creat the list! If you are looking for angle depend value, use the find_angle_iter_from_dir function."
     ]
    }
   ],
   "source": [
    "directory = get_tutorial_path(\"SHS/Eau_polar_V\")\n",
    "prefix_file, N_iter, extention = Alpaga.file_management.find_file_iter_from_dir(directory)\n",
    "print('The prefix for all the file are: \"' + prefix_file + '\" with ' + str(N_iter) + ' iter. The extention is: ' + extention)"
   ]
  },
  {
   "cell_type": "code",
   "execution_count": null,
   "metadata": {},
   "outputs": [],
   "source": [
    "directory = os.path.join(Dir_tuto_file, 'SHS/Eau_polar_V')\n",
    "prefix_file, L_files_angles, N_iter, extention = Alpaga.file_management.find_angle_iter_from_dir(directory)\n",
    "print('The prefix for all the file are: \"' + prefix_file + '\" with ' + str(N_iter) + ' iter. The angle found are ' + str(L_files_angles) + '. The extention is: ' + extention)"
   ]
  },
  {
   "cell_type": "markdown",
   "metadata": {},
   "source": [
    "Using these function, one can obtained directly the list of \"angles\" and \"iteration\" if the naming convention is the same as ours. \n",
    "\n",
    "If it is not the case, you can still look at these functions to build yours. These functions are not mendatory for Alpaga uses. "
   ]
  },
  {
   "cell_type": "markdown",
   "metadata": {},
   "source": [
    "# \"Very close\" naming convention"
   ]
  },
  {
   "cell_type": "markdown",
   "metadata": {},
   "source": [
    "Let us say that your are using a slightly different naming convention, for instance: prefix-$anglevalue-$iteration.extension, or prefixe_angleval$anglevalue_aq$iteration.dat. \n",
    "\n",
    "Then, you will not be able to directly use the function defined in Alpaga.file_management and you will need to provide an equivalent. \n",
    "\n",
    "If you want to say close to the initial Alpaga way, you have to give a \"convention\" and a \"finders\" functions to replace *Alpaga.file_management.standard_file_name* and *Alpaga.file_management.find_angle_iter_from_dir*, respectively. \n",
    "\n",
    "For instance for the \"convention\" function:"
   ]
  },
  {
   "cell_type": "code",
   "execution_count": null,
   "metadata": {},
   "outputs": [],
   "source": [
    "def my_own_convention_for_filename(prefixe, angle=False, iteration=False, extention='.dat'):\n",
    "    '''\n",
    "    Define how to built the name of a file. \n",
    "    Please note that the function structure / argument / output should be exactly like that!!!!\n",
    "    '''\n",
    "    if isinstance(angle, bool): # case where no angle is given \n",
    "        if isinstance(iteration, bool): # case where no iteration is given \n",
    "            name = prefixe + extention\n",
    "        else: # case where an iteration is given \n",
    "            name = prefixe + '_aq' + iteration + extention\n",
    "    else: # case where an angle is given \n",
    "        if isinstance(iteration, bool):  # case where no iteration is given \n",
    "            name = prefixe + '_' + angle + extention\n",
    "        else:  # case where an iteration is given \n",
    "            name = prefixe + '_' + angle + '_aq' + iteration + extention\n",
    "    return(name)\n",
    "    \n",
    "name_out = my_own_convention_for_filename('prefixe', angle='42.0', iteration='4', extention='.dat')\n",
    "print(name_out)"
   ]
  },
  {
   "cell_type": "markdown",
   "metadata": {},
   "source": [
    "We recommand to built a function that gives you a list of angles and a number of iteration per acquisition automatically just by knowing the directory name, but it is not mendatory. \n",
    "If you do not built this function, you will have to provide:\n",
    "  + prefix \n",
    "  + the iteration number, N_iter\n",
    "  + the angle list, L_angle  \n",
    "  + extension\n",
    "  + A way to link a prefix + angle value + iteration number to a filename. \n",
    "  \n",
    "Note: the prefix can be an empty string if required."
   ]
  },
  {
   "cell_type": "markdown",
   "metadata": {},
   "source": [
    "If you are using a very close naming convention, we recommand to define your own *my_own_convention_for_filename*, and you will be able to follow the next tutorial (tutorial_spectra_analysis) "
   ]
  },
  {
   "cell_type": "code",
   "execution_count": null,
   "metadata": {},
   "outputs": [],
   "source": [
    "# Try out:\n",
    "def my_own_convention_for_filename(prefixe, angle=False, iteration=False, extention='.dat'):\n",
    "    '''\n",
    "    Define how to built the name of a file. \n",
    "    Please note that the function structure / argument / output should be exactly like that!!!!\n",
    "    '''\n",
    "    if isinstance(angle, bool):  \n",
    "        if isinstance(iteration, bool):  \n",
    "            name = prefixe + extention # CHANGE THIS PART \n",
    "        else: \n",
    "            name = prefixe + '_aq' + iteration + extention\n",
    "    else: \n",
    "        if isinstance(iteration, bool):  # CHANGE THIS PART \n",
    "            name = prefixe + '_' + angle + extention\n",
    "        else:  \n",
    "            name = prefixe + '_' + angle + '_aq' + iteration + extention # CHANGE THIS PART \n",
    "    return(name)\n",
    "    \n",
    "name_out = my_own_convention_for_filename('prefixe', angle='42.0', iteration='4', extention='.dat')\n",
    "print(name_out)"
   ]
  },
  {
   "cell_type": "markdown",
   "metadata": {},
   "source": [
    "# Different naming convention"
   ]
  },
  {
   "cell_type": "markdown",
   "metadata": {},
   "source": [
    "If you are using a whole different way of naming / saving the spectra, you should provide the full path of each acquisition as a N_angle x N_iter list. For instance, for 2 angles and 3 iterations:\n",
    "```python\n",
    "  L_filename = [ \n",
    "  [filename_angle1_iter1, filename_angle1_iter2, filename_angle1_iter3]\n",
    "  [filename_angle2_iter1, filename_angle2_iter2, filename_angle2_iter3]\n",
    "  ]\n",
    "```  \n",
    "\n",
    "With the good N_iter and any list for the angle:\n",
    "\n",
    "```python, \n",
    "  L_files_angles = ['angle_value_1', 'angle_value_2']\n",
    "  N_iter = 2 \n",
    "```  "
   ]
  },
  {
   "cell_type": "markdown",
   "metadata": {},
   "source": [
    "If you are doing then take care in the following tutorial during the denoising part (part I) and for the file argument for the core function *Alpaga.analyze_run.polarisation_intensity* (part III)."
   ]
  },
  {
   "cell_type": "code",
   "execution_count": null,
   "metadata": {},
   "outputs": [],
   "source": []
  }
 ],
 "metadata": {
  "kernelspec": {
   "display_name": "Python 3 (ipykernel)",
   "language": "python",
   "name": "python3"
  },
  "language_info": {
   "codemirror_mode": {
    "name": "ipython",
    "version": 3
   },
   "file_extension": ".py",
   "mimetype": "text/x-python",
   "name": "python",
   "nbconvert_exporter": "python",
   "pygments_lexer": "ipython3",
   "version": "3.7.3"
  }
 },
 "nbformat": 4,
 "nbformat_minor": 2
}
