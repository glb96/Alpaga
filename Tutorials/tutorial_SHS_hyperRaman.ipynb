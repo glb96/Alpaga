{
 "cells": [
  {
   "cell_type": "code",
   "execution_count": 1,
   "metadata": {},
   "outputs": [],
   "source": [
    "%reset -f\n",
    "import importlib\n",
    "import numpy as np\n",
    "import os \n",
    "import sys\n",
    "import pickle\n",
    "\n",
    "import matplotlib\n",
    "import matplotlib.pyplot as plt\n",
    "\n",
    "import Alpaga # the full package\n",
    "from Alpaga import analyze_run \n",
    "from Alpaga.Data_tutorial import get_tutorial_path "
   ]
  },
  {
   "cell_type": "markdown",
   "metadata": {},
   "source": [
    "# Issue about Hyper Raman"
   ]
  },
  {
   "cell_type": "markdown",
   "metadata": {},
   "source": [
    "Here, we see there is some signal right after the gaussian (412 to 423nm). This signal may cause an error in the placement of the Gaussian.\n",
    "\n",
    "There is also a high background after 450nm that Alpaga can deal with."
   ]
  },
  {
   "cell_type": "code",
   "execution_count": 2,
   "metadata": {},
   "outputs": [
    {
     "name": "stdout",
     "output_type": "stream",
     "text": [
      "I will look at file with the extention .dat in the directory /home/glebreton/.local/lib/python3.7/site-packages/Alpaga/Data_tutorial/Exclu_zonefor angle dependent values. The type of the files should be: prefix_angle_iter.extention\n"
     ]
    },
    {
     "ename": "Exception",
     "evalue": "WARNING: I have not found any file with the good name type in this directory. Please check!",
     "output_type": "error",
     "traceback": [
      "\u001b[0;31m---------------------------------------------------------------------------\u001b[0m",
      "\u001b[0;31mException\u001b[0m                                 Traceback (most recent call last)",
      "\u001b[0;32m<ipython-input-2-8a7cc8c89dc8>\u001b[0m in \u001b[0;36m<module>\u001b[0;34m()\u001b[0m\n\u001b[1;32m      1\u001b[0m \u001b[0;31m#path to data\u001b[0m\u001b[0;34m\u001b[0m\u001b[0;34m\u001b[0m\u001b[0;34m\u001b[0m\u001b[0m\n\u001b[1;32m      2\u001b[0m \u001b[0mdirectory\u001b[0m \u001b[0;34m=\u001b[0m \u001b[0mget_tutorial_path\u001b[0m\u001b[0;34m(\u001b[0m\u001b[0;34m\"Exclu_zone\"\u001b[0m\u001b[0;34m)\u001b[0m\u001b[0;34m\u001b[0m\u001b[0;34m\u001b[0m\u001b[0m\n\u001b[0;32m----> 3\u001b[0;31m \u001b[0mprefix_file\u001b[0m\u001b[0;34m,\u001b[0m \u001b[0mL_files_angles\u001b[0m\u001b[0;34m,\u001b[0m \u001b[0mN_iter\u001b[0m\u001b[0;34m,\u001b[0m \u001b[0mextention\u001b[0m \u001b[0;34m=\u001b[0m \u001b[0mAlpaga\u001b[0m\u001b[0;34m.\u001b[0m\u001b[0mfile_management\u001b[0m\u001b[0;34m.\u001b[0m\u001b[0mfind_angle_iter_from_dir\u001b[0m\u001b[0;34m(\u001b[0m\u001b[0mdirectory\u001b[0m\u001b[0;34m)\u001b[0m\u001b[0;34m\u001b[0m\u001b[0;34m\u001b[0m\u001b[0m\n\u001b[0m\u001b[1;32m      4\u001b[0m \u001b[0mnames\u001b[0m \u001b[0;34m=\u001b[0m \u001b[0mos\u001b[0m\u001b[0;34m.\u001b[0m\u001b[0mpath\u001b[0m\u001b[0;34m.\u001b[0m\u001b[0mjoin\u001b[0m\u001b[0;34m(\u001b[0m\u001b[0mspectrum_DIR\u001b[0m\u001b[0;34m,\u001b[0m \u001b[0mprefix_file\u001b[0m\u001b[0;34m)\u001b[0m \u001b[0;34m+\u001b[0m \u001b[0;34m'_'\u001b[0m \u001b[0;34m+\u001b[0m \u001b[0mL_files_angles\u001b[0m\u001b[0;34m[\u001b[0m\u001b[0;36m0\u001b[0m\u001b[0;34m]\u001b[0m\u001b[0;34m\u001b[0m\u001b[0;34m\u001b[0m\u001b[0m\n\u001b[1;32m      5\u001b[0m \u001b[0;34m\u001b[0m\u001b[0m\n",
      "\u001b[0;32m/home/glebreton/.local/lib/python3.7/site-packages/Alpaga/file_management.py\u001b[0m in \u001b[0;36mfind_angle_iter_from_dir\u001b[0;34m(directory, extention)\u001b[0m\n\u001b[1;32m    297\u001b[0m     \u001b[0mN_angle\u001b[0m \u001b[0;34m=\u001b[0m \u001b[0mlen\u001b[0m\u001b[0;34m(\u001b[0m\u001b[0mL_files_angles\u001b[0m\u001b[0;34m)\u001b[0m\u001b[0;34m\u001b[0m\u001b[0;34m\u001b[0m\u001b[0m\n\u001b[1;32m    298\u001b[0m     \u001b[0;32mif\u001b[0m \u001b[0mN_angle\u001b[0m \u001b[0;34m==\u001b[0m \u001b[0;36m0\u001b[0m\u001b[0;34m:\u001b[0m\u001b[0;34m\u001b[0m\u001b[0;34m\u001b[0m\u001b[0m\n\u001b[0;32m--> 299\u001b[0;31m         \u001b[0;32mraise\u001b[0m \u001b[0mException\u001b[0m\u001b[0;34m(\u001b[0m\u001b[0;34m'WARNING: I have not found any file with the good name type in this directory. Please check!'\u001b[0m\u001b[0;34m)\u001b[0m\u001b[0;34m\u001b[0m\u001b[0;34m\u001b[0m\u001b[0m\n\u001b[0m\u001b[1;32m    300\u001b[0m \u001b[0;34m\u001b[0m\u001b[0m\n\u001b[1;32m    301\u001b[0m     \u001b[0;31m# check the number of iter:\u001b[0m\u001b[0;34m\u001b[0m\u001b[0;34m\u001b[0m\u001b[0;34m\u001b[0m\u001b[0m\n",
      "\u001b[0;31mException\u001b[0m: WARNING: I have not found any file with the good name type in this directory. Please check!"
     ]
    }
   ],
   "source": [
    "#path to data\n",
    "directory = get_tutorial_path(\"Exclu_zone\")\n",
    "prefix_file, L_files_angles, N_iter, extention = Alpaga.file_management.find_angle_iter_from_dir(directory)\n",
    "names = os.path.join(spectrum_DIR, prefix_file) + '_' + L_files_angles[0]\n",
    "\n",
    "# Cleaning parameters\n",
    "L_mean_cleaning_n = [1, 1, 1, 3]\n",
    "L_mean_cleaning_evo_max = [2, 1.5, 1.4, 1.3] \n",
    "\n",
    "# CLeaning and showing of datas\n",
    "L_lambda, L_spectra, _ = Alpaga.analyze_run.averaging_and_cleaning(names, N_iter, extention='.dat', \n",
    "                                                                   fct_name=Alpaga.file_management.standard_file_name, \n",
    "                                                                   type_cleaning='mean', L_mean_cleaning_n=L_mean_cleaning_n, \n",
    "                                                                   L_mean_cleaning_evo_max=L_mean_cleaning_evo_max, show_spectra='average', \n",
    "                                                                   figure_counter=1)\n"
   ]
  },
  {
   "cell_type": "markdown",
   "metadata": {},
   "source": [
    "# Gaussian fit with exclusion zone"
   ]
  },
  {
   "cell_type": "markdown",
   "metadata": {},
   "source": [
    "To fix this issue, one can add an exclusion zone in alpaga for the gaussian fit.\n",
    "\n",
    "Here we present how to do it."
   ]
  },
  {
   "cell_type": "code",
   "execution_count": null,
   "metadata": {},
   "outputs": [],
   "source": [
    "l_cut = [370, 398, 427, 460]\n",
    "order_fit_noise = 3\n",
    "bounds_fit_gausse=([0, 405, 2], [np.inf, 413, 5])\n",
    "lambda_0_ref = 409\n",
    "waist_ref = 5\n",
    "\n",
    "############### Exclusion zone ###############\n",
    "method_fit='fit_gauss_w_exclu'\n",
    "exclu_zone = [413,430]\n",
    "\n",
    "Alpaga.analyze_run.fit_gaussian_from_noise(L_lambda, L_spectra, l_cut=l_cut, order_fit_noise=order_fit_noise, method_fit=method_fit, \n",
    "                                    bounds_fit_gausse=bounds_fit_gausse, lambda_0_ref=lambda_0_ref, waist_ref=waist_ref, \n",
    "                                    exclu_zone=exclu_zone, fit_noise=False, show_spectra='all', figure_counter=1)"
   ]
  },
  {
   "cell_type": "markdown",
   "metadata": {},
   "source": [
    "On the last graph, we can see the suppressed point in red to get the correct fit of the \"main\" peak."
   ]
  },
  {
   "cell_type": "markdown",
   "metadata": {},
   "source": [
    "We also show here that you can recover the curve coming from the polynomial fit of the noise "
   ]
  },
  {
   "cell_type": "code",
   "execution_count": null,
   "metadata": {},
   "outputs": [],
   "source": [
    "Result_without_noise_param=Alpaga.analyze_run.fit_gaussian_from_noise(L_lambda, L_spectra, l_cut=l_cut, order_fit_noise=order_fit_noise, method_fit=method_fit, \n",
    "                                    bounds_fit_gausse=bounds_fit_gausse, lambda_0_ref=lambda_0_ref, waist_ref=waist_ref, \n",
    "                                    exclu_zone=exclu_zone, fit_noise=False, show_spectra=False, figure_counter=1)\n",
    "\n",
    "Result_with_noise_param=Alpaga.analyze_run.fit_gaussian_from_noise(L_lambda, L_spectra, l_cut=l_cut, order_fit_noise=order_fit_noise, method_fit=method_fit, \n",
    "                                    bounds_fit_gausse=bounds_fit_gausse, lambda_0_ref=lambda_0_ref, waist_ref=waist_ref, \n",
    "                                    exclu_zone=exclu_zone, fit_noise=True, show_spectra=False, figure_counter=1)\n",
    "\n",
    "# @GLB: these print are difficult to read\n",
    "#print(Result_without_noise_param)\n",
    "#print(Result_with_noise_param)\n",
    "\n",
    "plt.plot(L_lambda, L_spectra,label='data')\n",
    "plt.plot(Result_with_noise_param[2],Result_with_noise_param[3],label='polynomial fit of noise')\n",
    "plt.legend()"
   ]
  },
  {
   "cell_type": "markdown",
   "metadata": {},
   "source": [
    "# Automatization for polarization analysis"
   ]
  },
  {
   "cell_type": "code",
   "execution_count": null,
   "metadata": {},
   "outputs": [],
   "source": [
    "# Path to data\n",
    "directory = get_tutorial_path(\"Exclu_zone\")\n",
    "\n",
    "#cleaning parameter\n",
    "L_mean_cleaning_n = [1, 1, 1, 3]\n",
    "L_mean_cleaning_evo_max = [2.2, 1.8, 1.5, 1.5]\n",
    "l_cut = [370, 399, 427, 458]\n",
    "order_fit_noise = 3\n",
    "automatic_l_cut = False\n",
    "l_cut_n_n2 = [2, 9]\n",
    "bounds_fit_gausse=([0, 405, 2], [np.inf, 413, 5])\n",
    "lambda_0_ref = 409 # useless if you use method_fit_first='fit_gauss'\n",
    "waist_ref = 5\n",
    "fixed_para_gauss_fit = False\n",
    "method_fit_second = 'both' # or integral_gauss' or 'fit_gauss' or 'both'\n",
    "\n",
    "\n",
    "#name function parameters\n",
    "prefix_file = False\n",
    "L_files_angles = False \n",
    "N_iter = False\n",
    "extention = '.dat'\n",
    "fct_name = Alpaga.file_management.standard_file_name\n",
    "\n",
    "# set to True to save your results\n",
    "save_result=False\n",
    "# change this to save your results\n",
    "save_dir = os.path.join('whateverDir')\n",
    "name_save_result = os.path.join(save_dir, 'treated_data.p')\n",
    "\n",
    "\n",
    "waiting_time = False\n",
    "\n",
    "\n",
    "######### EXCLUSION ZONE !!! #########\n",
    "method_fit_first='fit_gauss_w_exclu'\n",
    "exclu_zone = [413,430]\n"
   ]
  },
  {
   "cell_type": "code",
   "execution_count": null,
   "metadata": {},
   "outputs": [],
   "source": [
    "#The run takes less then a minute\n",
    "L_post_prod_gauss_fit_integral = Alpaga.analyze_run.polarisation_intensity(directory=directory, prefix_file=prefix_file, L_files_angles=L_files_angles, N_iter=N_iter, extention=extention, fct_name=fct_name, type_cleaning='mean', L_mean_cleaning_n=L_mean_cleaning_n, L_mean_cleaning_evo_max=L_mean_cleaning_evo_max, automatic_l_cut=automatic_l_cut, l_cut=l_cut, l_cut_n_n2=l_cut_n_n2, order_fit_noise=order_fit_noise, method_fit_first=method_fit_first, bounds_fit_gausse=bounds_fit_gausse, lambda_0_ref=lambda_0_ref, waist_ref=waist_ref, exclu_zone = exclu_zone, fixed_para_gauss_fit=fixed_para_gauss_fit, method_fit_second=method_fit_second, save_result=save_result, name_save_result=name_save_result, waiting_time=waiting_time)\n"
   ]
  },
  {
   "cell_type": "markdown",
   "metadata": {},
   "source": [
    "# Plot of the HyperRaman intensity"
   ]
  },
  {
   "cell_type": "code",
   "execution_count": null,
   "metadata": {},
   "outputs": [],
   "source": [
    "L_files_angles = L_post_prod_gauss_fit_integral['L_files_angles']\n",
    "\n",
    "L_files_angles_new = []\n",
    "for k in range(0, len(L_files_angles), 1):\n",
    "    L_files_angles_new.append(float(L_files_angles[k]))\n",
    "L_polarisation_angle = np.array(L_files_angles_new)*2\n",
    "\n",
    "L_intensity_angle = L_post_prod_gauss_fit_integral['L_intensity']\n",
    "L_lambda_0_angle = L_post_prod_gauss_fit_integral['L_lambda_0']\n",
    "L_waist_angle = L_post_prod_gauss_fit_integral['L_waist']\n",
    "\n",
    "plt.plot(L_polarisation_angle, L_intensity_angle) #ploting"
   ]
  },
  {
   "cell_type": "code",
   "execution_count": null,
   "metadata": {},
   "outputs": [],
   "source": []
  }
 ],
 "metadata": {
  "kernelspec": {
   "display_name": "Python 3 (ipykernel)",
   "language": "python",
   "name": "python3"
  },
  "language_info": {
   "codemirror_mode": {
    "name": "ipython",
    "version": 3
   },
   "file_extension": ".py",
   "mimetype": "text/x-python",
   "name": "python",
   "nbconvert_exporter": "python",
   "pygments_lexer": "ipython3",
   "version": "3.7.3"
  }
 },
 "nbformat": 4,
 "nbformat_minor": 4
}
