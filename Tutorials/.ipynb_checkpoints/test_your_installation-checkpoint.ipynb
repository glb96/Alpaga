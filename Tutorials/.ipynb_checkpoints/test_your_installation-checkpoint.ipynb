{
 "cells": [
  {
   "cell_type": "raw",
   "metadata": {},
   "source": [
    "This jupyter notebook checks that alpaga is correctly installed and also performs tests.\n",
    "You can \"run all\" and check that the last cell has been succesfully excecuted. If so, you are good to go :) \n",
    "\n",
    "The run should take less then 2 minutes. "
   ]
  },
  {
   "cell_type": "code",
   "execution_count": 1,
   "metadata": {},
   "outputs": [],
   "source": [
    "#jupyter nbconvert --to python --TemplateExporter.exclude_input_prompt=True test_your_installation.ipynb\n",
    "\n",
    "import numpy as np\n",
    "import os \n",
    "import pickle\n",
    "import matplotlib.pyplot as plt"
   ]
  },
  {
   "cell_type": "markdown",
   "metadata": {},
   "source": [
    "# Basic installation test"
   ]
  },
  {
   "cell_type": "code",
   "execution_count": 2,
   "metadata": {},
   "outputs": [
    {
     "name": "stdout",
     "output_type": "stream",
     "text": [
      "<module 'Alpaga' from '/home/glebreton/.local/lib/python3.7/site-packages/Alpaga/__init__.py'>\n"
     ]
    }
   ],
   "source": [
    "# The output should look like this: \n",
    "# <module 'Alpaga' from '/home/glebreton/.local/lib/python3.7/site-packages/Alpaga/__init__.py'>\n",
    "# if you have the \"ModuleNotFoundError: No module named 'Alpaga'\", then you have not correctly installed the package. Please, refer to the wiki. \n",
    "\n",
    "import Alpaga # the full package\n",
    "print(Alpaga)\n",
    "\n",
    "from Alpaga import file_management\n",
    "from Alpaga import analyze_run \n",
    "from Alpaga import shs_module\n",
    "from Alpaga import sshg_module as sshg\n",
    "from Alpaga.Data_tutorial import get_tutorial_path "
   ]
  },
  {
   "cell_type": "markdown",
   "metadata": {},
   "source": [
    "# Integration test: file management"
   ]
  },
  {
   "cell_type": "raw",
   "metadata": {},
   "source": [
    "How Alpaga read and store the spectra raw files before the analysis. This test should take seconds.\n",
    "Here the error could be that the files are \"not found\", which is what this test is about. If so, please check that the Alpaga package is correctly installed! (import Alpaga works)"
   ]
  },
  {
   "cell_type": "code",
   "execution_count": 3,
   "metadata": {},
   "outputs": [
    {
     "name": "stdout",
     "output_type": "stream",
     "text": [
      "I will look at file with the extension .dat in the directory /home/glebreton/.local/lib/python3.7/site-packages/Alpaga/Data_tutorial/SHS/Single_angle for single acquisition. The type of the files should be: prefix_iter.extension\n"
     ]
    }
   ],
   "source": [
    "directory = get_tutorial_path(\"SHS/Single_angle\")\n",
    "prefix_file, N_iter, extension = Alpaga.file_management.find_file_iter_from_dir(directory)\n"
   ]
  },
  {
   "cell_type": "code",
   "execution_count": 4,
   "metadata": {},
   "outputs": [
    {
     "name": "stdout",
     "output_type": "stream",
     "text": [
      "I will look at file with the extension .dat in the directory /home/glebreton/.local/lib/python3.7/site-packages/Alpaga/Data_tutorial/SHS/Eau_polar_Vfor angle dependent values. The type of the files should be: prefix_angle_iter.extension\n"
     ]
    }
   ],
   "source": [
    "directory = get_tutorial_path(\"SHS/Eau_polar_V\")\n",
    "prefix_file, L_files_angles, N_iter, extension = Alpaga.file_management.find_angle_iter_from_dir(directory)\n"
   ]
  },
  {
   "cell_type": "code",
   "execution_count": 5,
   "metadata": {},
   "outputs": [
    {
     "name": "stdout",
     "output_type": "stream",
     "text": [
      "Second Run, Angle: 24.0\n",
      "/home/glebreton/.local/lib/python3.7/site-packages/Alpaga/Data_tutorial/SHS/Eau_polar_V/Spectre_24.0_1.dat\n",
      "/home/glebreton/.local/lib/python3.7/site-packages/Alpaga/Data_tutorial/SHS/Eau_polar_V/Spectre_24.0_2.dat\n",
      "/home/glebreton/.local/lib/python3.7/site-packages/Alpaga/Data_tutorial/SHS/Eau_polar_V/Spectre_24.0_3.dat\n",
      "/home/glebreton/.local/lib/python3.7/site-packages/Alpaga/Data_tutorial/SHS/Eau_polar_V/Spectre_24.0_4.dat\n",
      "/home/glebreton/.local/lib/python3.7/site-packages/Alpaga/Data_tutorial/SHS/Eau_polar_V/Spectre_24.0_5.dat\n",
      "The results are not saved. Set save_result to True if you want to save them.\n"
     ]
    }
   ],
   "source": [
    "# Defining your own convention function for the filename\n",
    "def my_convention_file_name(prefixe, angle=False, iteration=False, extension='.dat'):\n",
    "    '''\n",
    "    This is in fact the Alpaga.file_management.standard_file_name function because we are dealing with the same data. \n",
    "    For your data, change the lines with the # change here  \n",
    "    '''\n",
    "    if isinstance(angle, bool):\n",
    "        if isinstance(iteration, bool):\n",
    "            name = prefixe + extension # change here \n",
    "        else:\n",
    "            name = prefixe + '_' + iteration + extension # change here \n",
    "    else:\n",
    "        if isinstance(iteration, bool):\n",
    "            name = prefixe + '_' + angle + extension # change here \n",
    "        else: \n",
    "            name = prefixe + '_' + angle + '_' + iteration + extension # change here \n",
    "    return(name)\n",
    "\n",
    "directory = get_tutorial_path(\"SHS/Eau_polar_V\")\n",
    "prefix_file = 'Spectre' # this should be define in function of your datas\n",
    "prefix_file = os.path.join(directory, prefix_file)\n",
    "L_files_angles = ['4.0', '12.0', '24.0'] # this should be define in function of your datas\n",
    "N_iter = 5 # this should be define in function of your datas\n",
    "extension = '.dat' # this should be define in function of your datas\n",
    "\n",
    "fct_name = my_convention_file_name \n",
    "\n",
    "# Cleaning parameters:\n",
    "type_cleaning='mean' # default\n",
    "L_mean_cleaning_n = [1, 1, 1, 3]\n",
    "L_mean_cleaning_evo_max = [2, 1.5, 1.4, 1.3] \n",
    "\n",
    "# Noise \n",
    "l_cut = [380, 399, 414, 431] # remember that you still need to define meaningfull l_cut parameter even if you use the automatic_l_cut method!!!\n",
    "order_fit_noise = 4\n",
    "\n",
    "automatic_l_cut = True\n",
    "l_cut_n_n2 = [2, 9] # *w0\n",
    "\n",
    "\n",
    "# Fit the gaussian parameters:\n",
    "bounds_fit_gausse=([0, 404, 1], [np.inf, 410, 3])\n",
    "lambda_0_ref = 407.7 \n",
    "waist_ref = 2.52\n",
    "\n",
    "method_fit_first='fit_gauss'\n",
    "\n",
    "fixed_para_gauss_fit = True\n",
    "method_fit_second = 'both'\n",
    "\n",
    "\n",
    "# Saving the results:\n",
    "save_result=False\n",
    "name_save_result = os.path.join(\"SomePath\", 'post_prod_results.p')\n",
    "waiting_time = 0\n",
    "\n",
    "# The line to make the run: do not change anything here: all the parameter are defined above!\n",
    "L_post_prod_gauss_fit_integral = Alpaga.analyze_run.polarisation_intensity(directory=False, \n",
    "                                                                           prefix_file=prefix_file, \n",
    "                                                                           L_files_angles=L_files_angles, \n",
    "                                                                           N_iter=N_iter, \n",
    "                                                                           extension=extension, \n",
    "                                                                           fct_name=fct_name, \n",
    "                                                                           type_cleaning=type_cleaning, \n",
    "                                                                           L_mean_cleaning_n=L_mean_cleaning_n, \n",
    "                                                                           L_mean_cleaning_evo_max=L_mean_cleaning_evo_max, \n",
    "                                                                           automatic_l_cut=automatic_l_cut, \n",
    "                                                                           l_cut=l_cut, \n",
    "                                                                           l_cut_n_n2=l_cut_n_n2, \n",
    "                                                                           order_fit_noise=order_fit_noise, \n",
    "                                                                           method_fit_first=method_fit_first, \n",
    "                                                                           bounds_fit_gausse=bounds_fit_gausse, \n",
    "                                                                           lambda_0_ref=lambda_0_ref, \n",
    "                                                                           waist_ref=waist_ref, \n",
    "                                                                           fixed_para_gauss_fit=fixed_para_gauss_fit, \n",
    "                                                                           method_fit_second=method_fit_second, \n",
    "                                                                           save_result=save_result, \n",
    "                                                                           name_save_result=name_save_result, \n",
    "                                                                           waiting_time=waiting_time, \n",
    "                                                                           show_figure=False)\n"
   ]
  },
  {
   "cell_type": "code",
   "execution_count": 6,
   "metadata": {},
   "outputs": [
    {
     "name": "stdout",
     "output_type": "stream",
     "text": [
      "Second Run, Angle: 12\n",
      "/home/glebreton/.local/lib/python3.7/site-packages/Alpaga/Data_tutorial/SHS/Eau_polar_V/Spectre_12.0_1.dat\n",
      "/home/glebreton/.local/lib/python3.7/site-packages/Alpaga/Data_tutorial/SHS/Eau_polar_V/Spectre_12.0_1.dat\n",
      "/home/glebreton/.local/lib/python3.7/site-packages/Alpaga/Data_tutorial/SHS/Eau_polar_V/Spectre_12.0_1.dat\n",
      "Warning: For files with prefix _12, a spike was detected at lambda 373.316 for all iterations! The returned value may not be meaningful.\n",
      "The results are not saved. Set save_result to True if you want to save them.\n"
     ]
    }
   ],
   "source": [
    "# Using directly the filenames with L_filename\n",
    "directory = get_tutorial_path(\"SHS/Eau_polar_V\")\n",
    "names = 'whatever' # this argument has no use here\n",
    "L_files_angles = ['4', '8', '12']\n",
    "N_iter = 3 \n",
    "# you really want to define a for loop to define this: \n",
    "L_filename_local = [\n",
    "['Spectre_4.0_1.dat', 'Spectre_4.0_2.dat', 'Spectre_4.0_3.dat'],\n",
    "['Spectre_8.0_1.dat', 'Spectre_8.0_2.dat', 'Spectre_8.0_3.dat'],    \n",
    "['Spectre_12.0_1.dat', 'Spectre_12.0_2.dat', 'Spectre_12.0_3.dat']\n",
    "]\n",
    "L_filename = []\n",
    "for i in range(len(L_files_angles)):\n",
    "    L_filename.append([directory + '/' + L_filename_local[i][k] for k in range(N_iter)])\n",
    "\n",
    "# Cleaning parameters:\n",
    "type_cleaning='mean' # default\n",
    "L_mean_cleaning_n = [1, 1, 1, 3]\n",
    "L_mean_cleaning_evo_max = [2, 1.5, 1.4, 1.3] \n",
    "\n",
    "# Noise \n",
    "l_cut = [380, 399, 414, 431] # remember that you still need to define meaningfull l_cut parameter even if you use the automatic_l_cut method!!!\n",
    "order_fit_noise = 4\n",
    "\n",
    "automatic_l_cut = True\n",
    "l_cut_n_n2 = [2, 9] # *w0\n",
    "\n",
    "\n",
    "# Fit the gaussian parameters:\n",
    "bounds_fit_gausse=([0, 404, 1], [np.inf, 410, 3])\n",
    "lambda_0_ref = 407.7 # useless if you use method_fit_first='fit_gauss'\n",
    "waist_ref = 2.52\n",
    "\n",
    "method_fit_first='fit_gauss' # 'integral_gauss' or 'fit_gauss'\n",
    "\n",
    "fixed_para_gauss_fit = True\n",
    "method_fit_second = 'both' # or integral_gauss' or 'fit_gauss' or 'both'\n",
    "\n",
    "\n",
    "# Saving the results:\n",
    "save_result=False\n",
    "name_save_result = os.path.join(\"SomePath\", 'post_prod_results.p')\n",
    "waiting_time = 0\n",
    "\n",
    "# The line to make the run: do not change anything here: all the parameter are defined above!\n",
    "L_post_prod_gauss_fit_integral = Alpaga.analyze_run.polarisation_intensity(directory=False, \n",
    "                                                                           L_filename=L_filename, \n",
    "                                                                           L_files_angles=L_files_angles, \n",
    "                                                                           N_iter=N_iter, \n",
    "                                                                           type_cleaning=type_cleaning, \n",
    "                                                                           L_mean_cleaning_n=L_mean_cleaning_n, \n",
    "                                                                           L_mean_cleaning_evo_max=L_mean_cleaning_evo_max, \n",
    "                                                                           automatic_l_cut=automatic_l_cut, \n",
    "                                                                           l_cut=l_cut, \n",
    "                                                                           l_cut_n_n2=l_cut_n_n2, \n",
    "                                                                           order_fit_noise=order_fit_noise, \n",
    "                                                                           method_fit_first=method_fit_first, \n",
    "                                                                           bounds_fit_gausse=bounds_fit_gausse, \n",
    "                                                                           lambda_0_ref=lambda_0_ref, \n",
    "                                                                           waist_ref=waist_ref, \n",
    "                                                                           fixed_para_gauss_fit=fixed_para_gauss_fit, \n",
    "                                                                           method_fit_second=method_fit_second, \n",
    "                                                                           save_result=save_result, \n",
    "                                                                           name_save_result=name_save_result, \n",
    "                                                                           waiting_time=waiting_time,\n",
    "                                                                           show_figure=False)\n"
   ]
  },
  {
   "cell_type": "markdown",
   "metadata": {},
   "source": [
    "# Integration test: analysis "
   ]
  },
  {
   "cell_type": "raw",
   "metadata": {},
   "source": [
    "Test the core of Alpaga purpose: analyze spectra for standard parameters. The run should take about one minute."
   ]
  },
  {
   "cell_type": "code",
   "execution_count": 7,
   "metadata": {},
   "outputs": [
    {
     "name": "stdout",
     "output_type": "stream",
     "text": [
      "Second Run, Angle: 188.0\n",
      "/home/glebreton/.local/lib/python3.7/site-packages/Alpaga/Data_tutorial/SHS/Eau_polar_V/Spectre_188.0_1.dat\n",
      "/home/glebreton/.local/lib/python3.7/site-packages/Alpaga/Data_tutorial/SHS/Eau_polar_V/Spectre_188.0_2.dat\n",
      "/home/glebreton/.local/lib/python3.7/site-packages/Alpaga/Data_tutorial/SHS/Eau_polar_V/Spectre_188.0_3.dat\n",
      "/home/glebreton/.local/lib/python3.7/site-packages/Alpaga/Data_tutorial/SHS/Eau_polar_V/Spectre_188.0_4.dat\n",
      "/home/glebreton/.local/lib/python3.7/site-packages/Alpaga/Data_tutorial/SHS/Eau_polar_V/Spectre_188.0_5.dat\n",
      "/home/glebreton/.local/lib/python3.7/site-packages/Alpaga/Data_tutorial/SHS/Eau_polar_V/Spectre_188.0_6.dat\n",
      "/home/glebreton/.local/lib/python3.7/site-packages/Alpaga/Data_tutorial/SHS/Eau_polar_V/Spectre_188.0_7.dat\n",
      "/home/glebreton/.local/lib/python3.7/site-packages/Alpaga/Data_tutorial/SHS/Eau_polar_V/Spectre_188.0_8.dat\n",
      "/home/glebreton/.local/lib/python3.7/site-packages/Alpaga/Data_tutorial/SHS/Eau_polar_V/Spectre_188.0_9.dat\n",
      "/home/glebreton/.local/lib/python3.7/site-packages/Alpaga/Data_tutorial/SHS/Eau_polar_V/Spectre_188.0_10.dat\n",
      "/home/glebreton/.local/lib/python3.7/site-packages/Alpaga/Data_tutorial/SHS/Eau_polar_V/Spectre_188.0_11.dat\n",
      "/home/glebreton/.local/lib/python3.7/site-packages/Alpaga/Data_tutorial/SHS/Eau_polar_V/Spectre_188.0_12.dat\n",
      "The results are not saved. Set save_result to True if you want to save them.\n"
     ]
    }
   ],
   "source": [
    "################# Test Run ######################\n",
    "directory = get_tutorial_path('SHS/Eau_polar_V') # where is stored to tutorial files\n",
    "\n",
    "prefix_file = False\n",
    "L_files_angles = False \n",
    "N_iter = False\n",
    "extension = '.dat'\n",
    "fct_name = Alpaga.file_management.standard_file_name \n",
    "name_save_result = ''\n",
    "\n",
    "type_cleaning='mean' \n",
    "L_mean_cleaning_n = [1, 1, 1, 3]\n",
    "L_mean_cleaning_evo_max = [2, 1.5, 1.4, 1.3] \n",
    "\n",
    "l_cut = [380, 399, 414, 431] \n",
    "order_fit_noise = 4\n",
    "\n",
    "automatic_l_cut = True\n",
    "l_cut_n_n2 = [2, 9] \n",
    "\n",
    "\n",
    "bounds_fit_gausse=([0, 404, 1], [np.inf, 410, 3])\n",
    "lambda_0_ref = 407.7 \n",
    "waist_ref = 2.52\n",
    "\n",
    "method_fit_first='fit_gauss' \n",
    "\n",
    "fixed_para_gauss_fit = True\n",
    "method_fit_second = 'both' \n",
    "\n",
    "save_result=False\n",
    "waiting_time = False \n",
    "\n",
    "\n",
    "L_post_prod_gauss_fit_integral = Alpaga.analyze_run.polarisation_intensity(directory=directory, prefix_file=prefix_file, L_files_angles=L_files_angles, N_iter=N_iter, extension=extension, fct_name=fct_name, type_cleaning=type_cleaning, L_mean_cleaning_n=L_mean_cleaning_n, L_mean_cleaning_evo_max=L_mean_cleaning_evo_max, automatic_l_cut=automatic_l_cut, l_cut=l_cut, l_cut_n_n2=l_cut_n_n2, order_fit_noise=order_fit_noise, method_fit_first=method_fit_first, bounds_fit_gausse=bounds_fit_gausse, lambda_0_ref=lambda_0_ref, waist_ref=waist_ref, fixed_para_gauss_fit=fixed_para_gauss_fit, method_fit_second=method_fit_second, save_result=save_result, name_save_result=name_save_result, waiting_time=waiting_time, show_figure=False)\n",
    "\n"
   ]
  },
  {
   "cell_type": "code",
   "execution_count": 8,
   "metadata": {},
   "outputs": [
    {
     "name": "stdout",
     "output_type": "stream",
     "text": [
      "/home/glebreton/.local/lib/python3.7/site-packages/Alpaga/Data_tutorial/SHS/Eau_polar_V/post_prod_results.p\n",
      "dict_keys(['directory', 'prefix_file', 'N_iter', 'L_files_angles', 'extention', 'type_cleaning', 'L_mean_cleaning_n', 'L_mean_cleaning_evo_max', 'automatic_l_cut', 'l_cut', 'l_cut_n_n2', 'order_fit_noise', 'bounds_fit_gausse', 'lambda_0_ref', 'waist_ref', 'method_fit_first', 'method_fit_second', 'fixed_para_gauss_fit', 'save_result', 'name_save_result', 'waiting_time', 'exclu_zone', 'L_intensity', 'L_intensity_error', 'L_lambda_0', 'L_lambda_0_error', 'L_waist', 'L_waist_error', 'LL_noise_param', 'L_intensity_fit_gauss_fixed_para', 'L_intensity_fit_gauss_fixed_para_error', 'L_intensity_integral_gauss_fixed_para', 'L_intensity_integral_gauss_fixed_para_error'])\n"
     ]
    }
   ],
   "source": [
    "\n",
    "name_save_result = os.path.join(directory, 'post_prod_results.p')\n",
    "print(name_save_result)\n",
    "with open(name_save_result, 'rb') as f:\n",
    "    L_post_prod_load = pickle.load(f)\n",
    "\n",
    "print(L_post_prod_load.keys())"
   ]
  },
  {
   "cell_type": "code",
   "execution_count": 9,
   "metadata": {},
   "outputs": [
    {
     "name": "stdout",
     "output_type": "stream",
     "text": [
      "Testing: L_intensity\n",
      "Test ok\n",
      "Testing: L_intensity_error\n",
      "Test ok\n",
      "Testing: L_lambda_0\n",
      "Test ok\n",
      "Testing: L_lambda_0\n",
      "Test ok\n",
      "Testing: L_waist\n",
      "Test ok\n",
      "Testing: L_waist_error\n",
      "Test ok\n",
      "Testing: L_intensity_fit_gauss_fixed_para\n",
      "Test ok\n",
      "Testing: L_intensity_fit_gauss_fixed_para_error\n",
      "Test ok\n",
      "Testing: L_intensity_integral_gauss_fixed_para\n",
      "Test ok\n",
      "Testing: L_intensity_integral_gauss_fixed_para_error\n",
      "Test ok\n",
      "Everything looks fine! :)\n"
     ]
    }
   ],
   "source": [
    "################# Reference Run ######################\n",
    "name_save_result = os.path.join(directory, 'post_prod_results.p')\n",
    "with open(name_save_result, \"rb\") as filetoload:\n",
    "    L_post_prod_load = pickle.load(filetoload)\n",
    "\n",
    "################# Comparison ######################\n",
    "L_to_compare = ['L_intensity', 'L_intensity_error', 'L_lambda_0', 'L_lambda_0', 'L_waist', 'L_waist_error', 'L_intensity_fit_gauss_fixed_para', 'L_intensity_fit_gauss_fixed_para_error', 'L_intensity_integral_gauss_fixed_para', 'L_intensity_integral_gauss_fixed_para_error']\n",
    "for name in L_to_compare:\n",
    "    print('Testing:', name)\n",
    "    if np.sum((L_post_prod_load[name]-L_post_prod_gauss_fit_integral[name])**2) > 1e-6:\n",
    "        raise Exception('Error: the reference value has not been obtained for name! Please contact us on the Github with this error!')\n",
    "    print('Test ok')\n",
    "print('Everything looks fine! :)')\n"
   ]
  },
  {
   "cell_type": "markdown",
   "metadata": {},
   "source": [
    "# Integration test: Exclu zone"
   ]
  },
  {
   "cell_type": "code",
   "execution_count": 10,
   "metadata": {},
   "outputs": [
    {
     "name": "stdout",
     "output_type": "stream",
     "text": [
      "Angle: 180.0\n",
      "/home/glebreton/.local/lib/python3.7/site-packages/Alpaga/Data_tutorial/Exclu_zone/Spectre_180.0_1.dat\n",
      "/home/glebreton/.local/lib/python3.7/site-packages/Alpaga/Data_tutorial/Exclu_zone/Spectre_180.0_2.dat\n",
      "The results are not saved. Set save_result to True if you want to save them.\n"
     ]
    }
   ],
   "source": [
    "################# Test Run ######################\n",
    "directory = get_tutorial_path(\"Exclu_zone\")\n",
    "\n",
    "#cleaning parameter\n",
    "L_mean_cleaning_n = [1, 1, 1, 3]\n",
    "L_mean_cleaning_evo_max = [2.2, 1.8, 1.5, 1.5]\n",
    "l_cut = [370, 399, 427, 458]\n",
    "order_fit_noise = 3\n",
    "automatic_l_cut = False\n",
    "l_cut_n_n2 = [2, 9]\n",
    "bounds_fit_gausse=([0, 405, 2], [np.inf, 413, 5])\n",
    "lambda_0_ref = 409 # useless if you use method_fit_first='fit_gauss'\n",
    "waist_ref = 5\n",
    "fixed_para_gauss_fit = False\n",
    "method_fit_second = 'both' # or integral_gauss' or 'fit_gauss' or 'both'\n",
    "\n",
    "\n",
    "#name function parameters\n",
    "prefix_file = False\n",
    "L_files_angles = False \n",
    "N_iter = False\n",
    "extension = '.dat'\n",
    "fct_name = Alpaga.file_management.standard_file_name \n",
    "\n",
    "save_result=False\n",
    "waiting_time = False\n",
    "\n",
    "\n",
    "######### EXCLUSION ZONE !!! #########\n",
    "method_fit_first='fit_gauss_w_exclu'\n",
    "exclu_zone = [413,430]\n",
    "\n",
    "#The run takes less then a minute\n",
    "L_post_prod_gauss_fit_integral = Alpaga.analyze_run.polarisation_intensity(directory=directory, prefix_file=prefix_file, L_files_angles=L_files_angles, N_iter=N_iter, extension=extension, fct_name=fct_name, type_cleaning='mean', L_mean_cleaning_n=L_mean_cleaning_n, L_mean_cleaning_evo_max=L_mean_cleaning_evo_max, automatic_l_cut=automatic_l_cut, l_cut=l_cut, l_cut_n_n2=l_cut_n_n2, order_fit_noise=order_fit_noise, method_fit_first=method_fit_first, bounds_fit_gausse=bounds_fit_gausse, lambda_0_ref=lambda_0_ref, waist_ref=waist_ref, exclu_zone = exclu_zone, fixed_para_gauss_fit=fixed_para_gauss_fit, method_fit_second=method_fit_second, save_result=save_result, name_save_result=name_save_result, waiting_time=waiting_time, show_figure=False)\n"
   ]
  },
  {
   "cell_type": "code",
   "execution_count": 11,
   "metadata": {},
   "outputs": [
    {
     "name": "stdout",
     "output_type": "stream",
     "text": [
      "Testing: L_intensity\n",
      "Test ok\n",
      "Testing: L_lambda_0\n",
      "Test ok\n",
      "Testing: L_waist\n",
      "Test ok\n",
      "Everything looks fine! :)\n"
     ]
    }
   ],
   "source": [
    "################# Reference Run ######################\n",
    "name_save_result = os.path.join(directory, 'ref_datas.p')\n",
    "with open(name_save_result, \"rb\") as filetoload:\n",
    "    L_post_prod_load = pickle.load(filetoload)\n",
    "\n",
    "################# Comparison ######################\n",
    "L_to_compare = ['L_intensity', 'L_lambda_0',  'L_waist']\n",
    "for name in L_to_compare:\n",
    "    print('Testing:', name)\n",
    "    if np.sum((L_post_prod_load[name]-L_post_prod_gauss_fit_integral[name])**2) > 1e-6:\n",
    "        raise Exception('Error: the reference value has not been obtained for name! Please contact us on the Github with this error!')\n",
    "    print('Test ok')\n",
    "print('Everything looks fine! :)')"
   ]
  },
  {
   "cell_type": "markdown",
   "metadata": {},
   "source": [
    "# Integration test: SHS"
   ]
  },
  {
   "cell_type": "raw",
   "metadata": {},
   "source": [
    "Testing the polarization intensity wrt SHS usual analysis. This run should take seconds."
   ]
  },
  {
   "cell_type": "code",
   "execution_count": 12,
   "metadata": {},
   "outputs": [
    {
     "name": "stdout",
     "output_type": "stream",
     "text": [
      "a= 706.292230409337 b= 686.8871405817122 c= 104.36976003114427\n",
      "ZetaV = -0.18019677840226622 D = 0.14777135516648116\n",
      "i0= 389.65035296199596 i2= 300.5504463695141 i4= 15.080934022025597\n"
     ]
    }
   ],
   "source": [
    "################ Test Run ########################\n",
    "directory = get_tutorial_path('SHS') # where is stored to tutorial files\n",
    "name_save_result = os.path.join(directory, 'shs_water_pola_V.p')\n",
    "\n",
    "with open(name_save_result, \"rb\") as filetoload:\n",
    "    L_post_prod_load = pickle.load(filetoload)\n",
    "\n",
    "L_files_angles = L_post_prod_load['L_files_angles']\n",
    "\n",
    "L_files_angles_new = []\n",
    "for k in range(0, len(L_files_angles), 1):\n",
    "    L_files_angles_new.append(float(L_files_angles[k]))\n",
    "L_x = np.array(L_files_angles_new)*2\n",
    "L_y = L_post_prod_load['L_intensity']\n",
    "\n",
    "L_SHS_prop, L_SHS_prop_error = Alpaga.shs_module.analyse_polarization_SHS_V(L_x, L_y)\n",
    "a, b, c, ZetaV, Depol, i0, i2, i4, alpha_0 = L_SHS_prop\n",
    "\n",
    "print('a=', a, 'b=' ,b, 'c=', c)\n",
    "print('ZetaV = ' + str(ZetaV), 'D = ' + str(Depol))\n",
    "print('i0=', i0, 'i2=', i2, 'i4=', i4)\n"
   ]
  },
  {
   "cell_type": "code",
   "execution_count": 13,
   "metadata": {},
   "outputs": [
    {
     "name": "stdout",
     "output_type": "stream",
     "text": [
      "Testing: a\n",
      "Test ok\n",
      "Testing: b\n",
      "Test ok\n",
      "Testing: c\n",
      "Test ok\n",
      "Testing: ZetaV\n",
      "Test ok\n",
      "Testing: D\n",
      "Test ok\n",
      "Testing: i0\n",
      "Test ok\n",
      "Testing: i2\n",
      "Test ok\n",
      "Testing: i4\n",
      "Test ok\n",
      "Everything looks fine! :)\n"
     ]
    }
   ],
   "source": [
    "################# Reference Run ######################\n",
    "ref_a= 706.292230409337 \n",
    "ref_b= 686.8871405817122 \n",
    "ref_c= 104.36976003114427 \n",
    "ref_ZetaV = -0.18019677840226622 \n",
    "ref_D = 0.14777135516648116\n",
    "ref_i0= 389.65035296199596 \n",
    "ref_i2= 300.5504463695141 \n",
    "ref_i4= 15.080934022025597\n",
    "L_SHS_ref = [ref_a, ref_b, ref_c, ref_ZetaV, ref_D, ref_i0, ref_i2, ref_i4]\n",
    "\n",
    "################# Comparison ######################\n",
    "\n",
    "L_to_compare = [\"a\", \"b\", \"c\", \"ZetaV\", \"D\", \"i0\", \"i2\", \"i4\"]\n",
    "\n",
    "for i, name in enumerate(L_to_compare):\n",
    "    print('Testing:', name)\n",
    "    if np.sum((L_SHS_prop[i]-L_SHS_ref[i])**2) > 1e-6:\n",
    "        raise Exception('Error: the reference value has not been obtained for name! Please contact us on the Github with this error!')\n",
    "    print('Test ok')\n",
    "print('Everything looks fine! :)')\n",
    "\n",
    "\n"
   ]
  },
  {
   "cell_type": "markdown",
   "metadata": {},
   "source": [
    "# Integration test: SSHG"
   ]
  },
  {
   "cell_type": "raw",
   "metadata": {},
   "source": [
    "Testing the polarization intensity wrt SSHG usual analysis. This run should take seconds."
   ]
  },
  {
   "cell_type": "code",
   "execution_count": 14,
   "metadata": {},
   "outputs": [],
   "source": [
    "################ Test Run ########################\n",
    "directory = get_tutorial_path('SSHG') # where is stored to tutorial files\n",
    "name_save_result = os.path.join(directory, 'sshg_water_pola_S.p')\n",
    "\n",
    "with open(name_save_result, \"rb\") as filetoload:\n",
    "    L_post_prod_load = pickle.load(filetoload)\n",
    "L_intensity_S = L_post_prod_load['L_intensity_angle']\n",
    "L_lambda_0_S = L_post_prod_load['L_lambda_0_angle'] \n",
    "L_waist_S = L_post_prod_load['L_waist_angle'] \n",
    "\n",
    "\n",
    "name_save_result = os.path.join(directory, 'sshg_water_pola_P.p')\n",
    "with open(name_save_result, \"rb\") as filetoload:\n",
    "    L_post_prod_load = pickle.load(filetoload)\n",
    "L_intensity_P = L_post_prod_load['L_intensity_angle'] \n",
    "L_lambda_0_P = L_post_prod_load['L_lambda_0_angle']\n",
    "L_waist_P = L_post_prod_load['L_waist_angle'] \n",
    "\n",
    "\n",
    "L_files_angles = L_post_prod_load['L_files_angles']\n",
    "L_files_angles_new = []\n",
    "for k in range(0, len(L_files_angles), 1):\n",
    "    L_files_angles_new.append(float(L_files_angles[k]))\n",
    "L_polarisation_angle = np.array(L_files_angles_new)*2\n",
    "\n",
    "\n",
    "\n",
    "angle_incidence = 70 \n",
    "n1_fonda=1          \n",
    "n2_fonda=1.339       \n",
    "n1_harmo=1\n",
    "n2_harmo=1.329      \n",
    "\n",
    "ai, chi = Alpaga.sshg_module.analyse_polarization_SSHG(angle_incidence, n1_fonda, n2_fonda, n1_harmo, n2_harmo, L_polarisation_angle, L_intensity_S, L_intensity_P, XXZ=False)\n"
   ]
  },
  {
   "cell_type": "code",
   "execution_count": 15,
   "metadata": {},
   "outputs": [
    {
     "name": "stdout",
     "output_type": "stream",
     "text": [
      "Testing: ai[0]\n",
      "Test ok\n",
      "Testing: ai[1]\n",
      "Test ok\n",
      "Testing: ai[2]\n",
      "Test ok\n",
      "Testing: ai[3]\n",
      "Test ok\n",
      "Testing: ai[4]\n",
      "Test ok\n",
      "Testing: ai[5]\n",
      "Test ok\n",
      "Testing: chi[0]\n",
      "Test ok\n",
      "Testing: chi[1]\n",
      "Test ok\n",
      "Testing: chi[2]\n",
      "Test ok\n",
      "Testing: chi[3]\n",
      "Test ok\n",
      "Testing: chi[4]\n",
      "Test ok\n",
      "Testing: chi[5]\n",
      "Test ok\n",
      "Everything looks fine! :)\n"
     ]
    }
   ],
   "source": [
    "################# Reference Run ######################\n",
    "ref_ai= [0.3542567700981523, -0.3621604694014314, 0.1839850510782555, 0.366155382521651, 0.3552643798973962, 1.2217304763960306]\n",
    "ref_chi= [46.28604700524947, -11.066637940848794, -20.134105808498713, 46.28604700524947, 11.066637940848794, 111.69619835354911]\n",
    "\n",
    "################# Comparison ######################\n",
    "\n",
    "\n",
    "for i in range(0, len(ai)):\n",
    "    print('Testing:', 'ai[' + str(i) + ']')\n",
    "    if np.sum((ai[i]-ref_ai[i])**2) > 1e-6:\n",
    "        raise Exception('Error: the reference value has not been obtained for name! Please contact us on the Github with this error!')\n",
    "    print('Test ok')\n",
    "for i in range(0, len(chi)):\n",
    "    print('Testing:', 'chi[' + str(i) + ']')\n",
    "    if np.sum((chi[i]-ref_chi[i])**2) > 1e-6:\n",
    "        raise Exception('Error: the reference value has not been obtained for name! Please contact us on the Github with this error!')\n",
    "    print('Test ok')\n",
    "    \n",
    "print('Everything looks fine! :)')\n"
   ]
  },
  {
   "cell_type": "code",
   "execution_count": null,
   "metadata": {},
   "outputs": [],
   "source": []
  },
  {
   "cell_type": "code",
   "execution_count": null,
   "metadata": {},
   "outputs": [],
   "source": []
  }
 ],
 "metadata": {
  "kernelspec": {
   "display_name": "Python 3 (ipykernel)",
   "language": "python",
   "name": "python3"
  },
  "language_info": {
   "codemirror_mode": {
    "name": "ipython",
    "version": 3
   },
   "file_extension": ".py",
   "mimetype": "text/x-python",
   "name": "python",
   "nbconvert_exporter": "python",
   "pygments_lexer": "ipython3",
   "version": "3.7.3"
  }
 },
 "nbformat": 4,
 "nbformat_minor": 2
}
