{
 "cells": [
  {
   "cell_type": "markdown",
   "metadata": {},
   "source": [
    "This tutorial shows how to use Alpaga’s file management functions to efficiently organize and access spectral data."
   ]
  },
  {
   "cell_type": "code",
   "execution_count": 16,
   "metadata": {},
   "outputs": [],
   "source": [
    "import numpy as np\n",
    "import os \n",
    "import sys\n",
    "\n",
    "import Alpaga\n",
    "from Alpaga import file_management\n",
    "from Alpaga.Data_tutorial import get_tutorial_path \n"
   ]
  },
  {
   "cell_type": "markdown",
   "metadata": {},
   "source": [
    "# Introduction (please read carefully)"
   ]
  },
  {
   "cell_type": "markdown",
   "metadata": {},
   "source": [
    "In this tutorial, we will explore the various functions available to read data obtained from our experimental device. The **main idea** is that one obtains experimentally a series of **iterations** as a function of a \"parameter,\" which we will call **angle** — historically, this represents the light polarization. The goal of this tutorial is to explain how to connect these files to Alpaga for analysis.\n",
    "\n",
    "An iteration is a series of acquisitions that sample the same spectrum. We aim to average the spectra across iterations for a given angle.\n",
    "Practically speaking, if you record one spectrum over 10 seconds for each angle, you will have 1 iteration per angle. If you record 10 spectra over 1 second for each angle, you will have 10 iterations per angle.\n",
    "\n",
    "If you record spectra as a function of angle — for example, from 0° to 180° in steps of 10° — you will have 19 angles. With 10 iterations per angle, you will obtain 19 × 10 = 190 spectra to process\n",
    "Again, we would like to emphasize that angle can represent something other than an angle. Technically speaking, angles are treated as strings in Alpaga. \n",
    "\n",
    "We will show how to do this in the spectra_analysis tutorial, but first, let us discuss how to access the data — **your** data. In fact, this is likely the part where you will need to spend the most time during your first use of Alpaga."
   ]
  },
  {
   "cell_type": "markdown",
   "metadata": {},
   "source": [
    "First, let us show how this is done in the lab where Alpaga was developed.\n",
    "The LabView software controlling the acquisition saves the spectra in a directory with the following naming convention:\n",
    "```python\n",
    "prefix + \"_\" + angle value + \"_\" + iteration number + \".dat\"\n",
    "```\n",
    "\n",
    "For example, for an angle of 0.0° with 3 acquisitions, we would have 3 files:\n",
    "```polarP_0.0_1.dat```, ```polarP_0.0_2.dat```, and ```polarP_0.0_3.dat```.\n",
    "\n",
    "\n",
    "Given a prefix, ```angle_value```, and ```iteration```, the function `alpaga.file_management.standard_file_name` constructs the file name according to the rule presented above.\n",
    "\n",
    "We can use `standard_file_name` to generate file names in all possible cases:\n",
    "\n",
    "- When both angle and iteration are specified  \n",
    "- When only the iteration is specified  \n",
    "- When only the angle is specified  \n",
    "- When neither is specified\n"
   ]
  },
  {
   "cell_type": "code",
   "execution_count": 17,
   "metadata": {},
   "outputs": [
    {
     "name": "stdout",
     "output_type": "stream",
     "text": [
      "prefixe_42.0_4.dat\n",
      "prefixe_4.dat\n",
      "prefixe_42.0.dat\n",
      "prefixe.dat\n"
     ]
    }
   ],
   "source": [
    "# Example 1: both angle and iteration are provided\n",
    "name_out = Alpaga.file_management.standard_file_name('prefixe', angle='42.0', iteration='4', extention='.dat')\n",
    "print(name_out)\n",
    "\n",
    "# Example 2: no angle provided, only iteration\n",
    "name_out = Alpaga.file_management.standard_file_name('prefixe', angle=False, iteration='4', extention='.dat')\n",
    "print(name_out)\n",
    "\n",
    "# Example 3: only angle provided, no iteration\n",
    "name_out = Alpaga.file_management.standard_file_name('prefixe', angle='42.0', iteration=False, extention='.dat')\n",
    "print(name_out)\n",
    "\n",
    "# Example 4: neither angle nor iteration provided\n",
    "name_out = Alpaga.file_management.standard_file_name('prefixe', angle=False, iteration=False, extention='.dat')\n",
    "print(name_out)"
   ]
  },
  {
   "cell_type": "markdown",
   "metadata": {},
   "source": [
    "The entire Alpaga analysis framework is built around the concepts of **angle** (for the \"physical\" analyses) and **iteration** (for denoising and computing experimental errors.\n",
    "\n",
    "Therefore, you may be using this exact naming convention for your files, a very similar one, or a different one entirely.\n",
    "  + If you are using this convention, continue to the next section — you will likely have little difficulty following the subsequent tutorials for your analyses.\n",
    "  + If not, skip to the last section.\n",
    "  \n",
    "In any case, Alpaga requires a way to access the files and associate each one with a specific **angle** and **iteration**."
   ]
  },
  {
   "cell_type": "markdown",
   "metadata": {},
   "source": [
    "**Note:** If you are saving your iterations sequentially for a single angle, please contact us. This case is not yet handled, but it should be easily fixed."
   ]
  },
  {
   "cell_type": "markdown",
   "metadata": {},
   "source": [
    "# About the Tutorial Data"
   ]
  },
  {
   "cell_type": "markdown",
   "metadata": {},
   "source": [
    "The data used in the tutorials are included within the Alpaga package. You can access them using the `Alpaga.Data_tutorial.get_tutorial_path function`. This is already done in the tutorials, so you should not need to worry about this step.\n",
    "\n",
    "If you want to explore additional data or access the files manually, check the `Alpaga/Data_tutorial` folder in the GitHub repository (or your local copy), or use the following command to see the directory on your system:"
   ]
  },
  {
   "cell_type": "code",
   "execution_count": 18,
   "metadata": {},
   "outputs": [
    {
     "name": "stdout",
     "output_type": "stream",
     "text": [
      "Tutorial data is stored here: /home/glebreton/.local/lib/python3.7/site-packages/Alpaga/Data_tutorial/\n"
     ]
    }
   ],
   "source": [
    "print('Tutorial data is stored here:', get_tutorial_path(''))"
   ]
  },
  {
   "cell_type": "markdown",
   "metadata": {},
   "source": [
    "# \"Standard\" Naming Convention"
   ]
  },
  {
   "cell_type": "markdown",
   "metadata": {},
   "source": [
    "If you are reading this section, your file naming convention follows a pattern like:\n",
    "```python\n",
    "prefix + \"_\" + angle value + \"_\" + iteration number + extension\n",
    "```\n",
    "and all files are saved in the same directory for a given experiment.\n",
    "\n",
    "If your convention is slightly different, read this section and the next one. If you have recorded only one type of experiment (i.e., using a single prefix), you can use either the function `Alpaga.file_management.find_file_iter_from_dir` or `Alpaga.file_management.find_angle_iter_from_dir` to automatically determine the number of iterations and angles.\n",
    "\n",
    "The following examples are self-explanatory:"
   ]
  },
  {
   "cell_type": "code",
   "execution_count": 19,
   "metadata": {},
   "outputs": [
    {
     "name": "stdout",
     "output_type": "stream",
     "text": [
      "I will look at file with the extention .dat in the directory /home/glebreton/.local/lib/python3.7/site-packages/Alpaga/Data_tutorial/SHS/Single_angle for single acquisition. The type of the files should be: prefix_iter.extention\n",
      "The prefix for all the file are: \"Spectre_4.0\" with 12 iter. The extention is: .dat\n"
     ]
    }
   ],
   "source": [
    "directory = get_tutorial_path(\"SHS/Single_angle\")\n",
    "prefix_file, N_iter, extention = Alpaga.file_management.find_file_iter_from_dir(directory)\n",
    "print('The prefix for all the file are: \"' + prefix_file + '\" with ' + str(N_iter) + ' iter. The extention is: ' + extention)"
   ]
  },
  {
   "cell_type": "code",
   "execution_count": 20,
   "metadata": {},
   "outputs": [
    {
     "name": "stdout",
     "output_type": "stream",
     "text": [
      "I will look at file with the extention .dat in the directory /home/glebreton/.local/lib/python3.7/site-packages/Alpaga/Data_tutorial/SHS/Eau_polar_Vfor angle dependent values. The type of the files should be: prefix_angle_iter.extention\n",
      "The prefix for all the file are: \"Spectre\" with 12 iter. The angle found are ['4.0', '8.0', '12.0', '16.0', '20.0', '24.0', '28.0', '32.0', '36.0', '40.0', '44.0', '48.0', '52.0', '56.0', '60.0', '64.0', '68.0', '72.0', '76.0', '80.0', '84.0', '88.0', '92.0', '96.0', '100.0', '104.0', '108.0', '112.0', '116.0', '120.0', '124.0', '128.0', '132.0', '136.0', '140.0', '144.0', '148.0', '152.0', '156.0', '160.0', '164.0', '168.0', '172.0', '176.0', '180.0', '184.0', '188.0']. The extention is: .dat\n"
     ]
    }
   ],
   "source": [
    "directory = get_tutorial_path(\"SHS/Eau_polar_V\")\n",
    "prefix_file, L_files_angles, N_iter, extention = Alpaga.file_management.find_angle_iter_from_dir(directory)\n",
    "print('The prefix for all the file are: \"' + prefix_file + '\" with ' + str(N_iter) + ' iter. The angle found are ' + str(L_files_angles) + '. The extention is: ' + extention)"
   ]
  },
  {
   "cell_type": "markdown",
   "metadata": {},
   "source": [
    "The function ``find_angle_iter_from_dir(directory)`` scans the specified directory for all spectral files and organizes them according to the angle of acquisition and iteration number.\n",
    "\n",
    "It returns four values:\n",
    "\n",
    "- ``prefix_file``: the common prefix shared by all files in this dataset.\n",
    "- ``L_files_angles``: a list of lists containing the files grouped by angle.\n",
    "- ``N_iter``: the number of iterations per angle.\n",
    "- ``extension``: the file extension of the dataset files.\n",
    "\n",
    "This organization allows subsequent functions to process the spectra automatically for each angle and iteration. Using these functions, you can directly obtain the lists of \"angles\" and \"iterations\" if your naming convention matches ours.\n",
    "\n",
    "If your naming convention is different, you can still refer to these functions to build your own solution. These functions are not mandatory for using Alpaga."
   ]
  },
  {
   "cell_type": "markdown",
   "metadata": {},
   "source": [
    "# \"Slightly Different\" Naming Convention"
   ]
  },
  {
   "cell_type": "markdown",
   "metadata": {},
   "source": [
    "Suppose you are using a slightly different naming convention, for example: `prefix-$anglevalue-$iteration.extension or prefix_angleval$anglevalue_aq$iteration.dat`.\n",
    "\n",
    "In this case, you will not be able to directly use the functions defined in `Alpaga.file_management` and will need to provide equivalent functions.\n",
    "\n",
    "To stay close to the original Alpaga approach, you need to define a \"convention\" function and a \"finder\" function to replace `Alpaga.file_management.standard_file_name` and `Alpaga.file_management.find_angle_iter_from_dir`, respectively.\n",
    "\n",
    "For example, for the \"convention\" function:"
   ]
  },
  {
   "cell_type": "code",
   "execution_count": 21,
   "metadata": {},
   "outputs": [
    {
     "name": "stdout",
     "output_type": "stream",
     "text": [
      "prefixe_42.0_aq4.dat\n"
     ]
    }
   ],
   "source": [
    "def my_own_convention_for_filename(prefixe, angle=False, iteration=False, extention='.dat'):\n",
    "    \"\"\"\n",
    "    Define how to build the name of a file. \n",
    "    Note: The function structure, arguments, and output must match this exactly!\n",
    "    \"\"\"\n",
    "    if isinstance(angle, bool):  # Case where no angle is given\n",
    "        if isinstance(iteration, bool):  # Case where no iteration is given\n",
    "            name = prefixe + extention\n",
    "        else:  # Case where only an iteration is given\n",
    "            name = prefixe + '_aq' + iteration + extention\n",
    "    else:  # Case where an angle is given\n",
    "        if isinstance(iteration, bool):  # Case where no iteration is given\n",
    "            name = prefixe + '_' + angle + extention\n",
    "        else:  # Case where both angle and iteration are given\n",
    "            name = prefixe + '_' + angle + '_aq' + iteration + extention\n",
    "    return name\n",
    "    \n",
    "# Example usage\n",
    "name_out = my_own_convention_for_filename('prefixe', angle='42.0', iteration='4', extention='.dat')\n",
    "print(name_out)\n"
   ]
  },
  {
   "cell_type": "markdown",
   "metadata": {},
   "source": [
    "We recommend creating a function that automatically returns a list of angles and the number of iterations per acquisition by simply knowing the directory name. This is optional, however.\n",
    "\n",
    "If you do not create this function, you will need to provide:\n",
    "\n",
    " + `prefix`\n",
    " + the number of iterations, `N_iter`\n",
    " + the list of angles, `L_angle`\n",
    " + the file `extension`\n",
    " + a method to map a prefix, angle value, and iteration number to a filename\n",
    "\n",
    "**Note:** The prefix can be an empty string if necessary.\n",
    "\n",
    "If you are using a naming convention very similar to the original Alpaga format, we recommend defining your own `my_own_convention_for_filename`. This will allow you to follow the next tutorial (`tutorial_spectra_analysis`) without additional modifications."
   ]
  },
  {
   "cell_type": "code",
   "execution_count": 22,
   "metadata": {},
   "outputs": [
    {
     "name": "stdout",
     "output_type": "stream",
     "text": [
      "prefixe_42.0_aq4.dat\n"
     ]
    }
   ],
   "source": [
    "# Try out:\n",
    "def my_own_convention_for_filename(prefixe, angle=False, iteration=False, extention='.dat'):\n",
    "    '''\n",
    "    Define how to build the name of a file. \n",
    "    Please note that the function structure / argument / output should be exactly like that!!!!\n",
    "    '''\n",
    "    if isinstance(angle, bool):  \n",
    "        if isinstance(iteration, bool):  \n",
    "            name = prefixe + extention # CHANGE THIS PART \n",
    "        else: \n",
    "            name = prefixe + '_aq' + iteration + extention\n",
    "    else: \n",
    "        if isinstance(iteration, bool):  # CHANGE THIS PART \n",
    "            name = prefixe + '_' + angle + extention\n",
    "        else:  \n",
    "            name = prefixe + '_' + angle + '_aq' + iteration + extention # CHANGE THIS PART \n",
    "    return(name)\n",
    "    \n",
    "name_out = my_own_convention_for_filename('prefixe', angle='42.0', iteration='4', extention='.dat')\n",
    "print(name_out)"
   ]
  },
  {
   "cell_type": "markdown",
   "metadata": {},
   "source": [
    "# Different Naming Conventions"
   ]
  },
  {
   "cell_type": "markdown",
   "metadata": {},
   "source": [
    "If you are using an entirely different way of naming or saving your spectra, you must provide the full path of each acquisition as an `N_angle x N_iter` list. For example, for 2 angles and 3 iterations:\n",
    "\n",
    "```python\n",
    "    L_filename = [\n",
    "        [filename_angle1_iter1, filename_angle1_iter2, filename_angle1_iter3],\n",
    "        [filename_angle2_iter1, filename_angle2_iter2, filename_angle2_iter3]\n",
    "    ]\n",
    "```\n",
    "\n",
    "With the correct `N_iter` and any list of angles:\n",
    "\n",
    "```python\n",
    "\n",
    "    L_files_angles = ['angle_value_1', 'angle_value_2']\n",
    "    N_iter = 2\n",
    "```\n",
    "\n",
    "\n",
    "**Note:** If you provide your data in this way, be careful when following the next tutorial, especially during the denoising step (Part I) and when using the `file` argument in the core function `Alpaga.analyze_run.polarisation_intensity` (Part III).\n"
   ]
  },
  {
   "cell_type": "code",
   "execution_count": null,
   "metadata": {},
   "outputs": [],
   "source": []
  }
 ],
 "metadata": {
  "kernelspec": {
   "display_name": "Python 3 (ipykernel)",
   "language": "python",
   "name": "python3"
  },
  "language_info": {
   "codemirror_mode": {
    "name": "ipython",
    "version": 3
   },
   "file_extension": ".py",
   "mimetype": "text/x-python",
   "name": "python",
   "nbconvert_exporter": "python",
   "pygments_lexer": "ipython3",
   "version": "3.7.3"
  }
 },
 "nbformat": 4,
 "nbformat_minor": 2
}
